{
 "cells": [
  {
   "cell_type": "code",
   "execution_count": 1,
   "metadata": {
    "_cell_guid": "b1076dfc-b9ad-4769-8c92-a6c4dae69d19",
    "_uuid": "8f2839f25d086af736a60e9eeb907d3b93b6e0e5",
    "execution": {
     "iopub.execute_input": "2025-04-29T17:16:50.522827Z",
     "iopub.status.busy": "2025-04-29T17:16:50.522600Z",
     "iopub.status.idle": "2025-04-29T17:16:50.818117Z",
     "shell.execute_reply": "2025-04-29T17:16:50.817371Z",
     "shell.execute_reply.started": "2025-04-29T17:16:50.522810Z"
    },
    "trusted": true
   },
   "outputs": [
    {
     "name": "stdout",
     "output_type": "stream",
     "text": [
      "/kaggle/input/image-2/image-2.jpg\n",
      "/kaggle/input/agri-dataset/text2.pdf\n",
      "/kaggle/input/agri-dataset/text3.pdf\n",
      "/kaggle/input/agri-dataset/text1.pdf\n",
      "/kaggle/input/image-vision/tomato_leaf.jpg\n"
     ]
    }
   ],
   "source": [
    "# This Python 3 environment comes with many helpful analytics libraries installed\n",
    "# It is defined by the kaggle/python Docker image: https://github.com/kaggle/docker-python\n",
    "# For example, here's several helpful packages to load\n",
    "\n",
    "import numpy as np # linear algebra\n",
    "import pandas as pd # data processing, CSV file I/O (e.g. pd.read_csv)\n",
    "\n",
    "# Input data files are available in the read-only \"../input/\" directory\n",
    "# For example, running this (by clicking run or pressing Shift+Enter) will list all files under the input directory\n",
    "\n",
    "import os\n",
    "for dirname, _, filenames in os.walk('/kaggle/input'):\n",
    "    for filename in filenames:\n",
    "        print(os.path.join(dirname, filename))\n",
    "\n",
    "# You can write up to 20GB to the current directory (/kaggle/working/) that gets preserved as output when you create a version using \"Save & Run All\" \n",
    "# You can also write temporary files to /kaggle/temp/, but they won't be saved outside of the current session"
   ]
  },
  {
   "cell_type": "markdown",
   "metadata": {},
   "source": [
    "**Necessary installations and imports**"
   ]
  },
  {
   "cell_type": "code",
   "execution_count": null,
   "metadata": {
    "trusted": true
   },
   "outputs": [],
   "source": [
    "!pip install -q pdfplumber nltk\n",
    "!pip install -U bitsandbytes\n",
    "!pip install -q sentence-transformers huggingface_hub transformers faiss-cpu"
   ]
  },
  {
   "cell_type": "code",
   "execution_count": 2,
   "metadata": {
    "execution": {
     "iopub.execute_input": "2025-04-29T17:17:00.867401Z",
     "iopub.status.busy": "2025-04-29T17:17:00.866984Z",
     "iopub.status.idle": "2025-04-29T17:17:02.213875Z",
     "shell.execute_reply": "2025-04-29T17:17:02.213060Z",
     "shell.execute_reply.started": "2025-04-29T17:17:00.867378Z"
    },
    "trusted": true
   },
   "outputs": [
    {
     "name": "stderr",
     "output_type": "stream",
     "text": [
      "[nltk_data] Downloading package punkt to /usr/share/nltk_data...\n",
      "[nltk_data]   Package punkt is already up-to-date!\n"
     ]
    }
   ],
   "source": [
    "import pdfplumber\n",
    "import re\n",
    "import nltk\n",
    "nltk.download('punkt')\n",
    "from nltk.tokenize import sent_tokenize"
   ]
  },
  {
   "cell_type": "markdown",
   "metadata": {},
   "source": [
    "**Data Preprocessing** "
   ]
  },
  {
   "cell_type": "code",
   "execution_count": 3,
   "metadata": {
    "execution": {
     "iopub.execute_input": "2025-04-29T17:17:02.215395Z",
     "iopub.status.busy": "2025-04-29T17:17:02.215028Z",
     "iopub.status.idle": "2025-04-29T17:17:02.221292Z",
     "shell.execute_reply": "2025-04-29T17:17:02.220759Z",
     "shell.execute_reply.started": "2025-04-29T17:17:02.215375Z"
    },
    "trusted": true
   },
   "outputs": [],
   "source": [
    "# Settings\n",
    "chunk_size = 400  # approx words per chunk\n",
    "pdf_files = ['/kaggle/input/agri-dataset/text1.pdf', '/kaggle/input/agri-dataset/text2.pdf', '/kaggle/input/agri-dataset/text3.pdf']\n",
    "\n",
    "# Helper function: Read PDF and extract text\n",
    "def extract_text_from_pdf(pdf_path):\n",
    "    full_text = ''\n",
    "    with pdfplumber.open(pdf_path) as pdf:\n",
    "        for page in pdf.pages:\n",
    "            text = page.extract_text()\n",
    "            if text:\n",
    "                full_text += text + '\\n'\n",
    "    return full_text\n",
    "\n",
    "# Helper function: Clean the extracted text\n",
    "def clean_text(text):\n",
    "    # Remove multiple spaces, tabs, and newlines\n",
    "    text = re.sub(r'\\s+', ' ', text)\n",
    "    # Remove unwanted characters if needed (example: form feeds)\n",
    "    text = text.replace('\\x0c', '')\n",
    "    return text.strip()\n",
    "\n",
    "# Helper function: Chunk text into small passages\n",
    "def chunk_text(text, chunk_size=400):\n",
    "    sentences = sent_tokenize(text)\n",
    "    chunks = []\n",
    "    current_chunk = ''\n",
    "    current_count = 0\n",
    "    \n",
    "    for sentence in sentences:\n",
    "        words = sentence.split()\n",
    "        if current_count + len(words) <= chunk_size:\n",
    "            current_chunk += ' ' + sentence\n",
    "            current_count += len(words)\n",
    "        else:\n",
    "            chunks.append(current_chunk.strip())\n",
    "            current_chunk = sentence\n",
    "            current_count = len(words)\n",
    "    \n",
    "    # Add last chunk\n",
    "    if current_chunk:\n",
    "        chunks.append(current_chunk.strip())\n",
    "    \n",
    "    return chunks"
   ]
  },
  {
   "cell_type": "code",
   "execution_count": 4,
   "metadata": {
    "execution": {
     "iopub.execute_input": "2025-04-29T17:17:02.222351Z",
     "iopub.status.busy": "2025-04-29T17:17:02.222077Z",
     "iopub.status.idle": "2025-04-29T17:17:06.666341Z",
     "shell.execute_reply": "2025-04-29T17:17:06.665580Z",
     "shell.execute_reply.started": "2025-04-29T17:17:02.222309Z"
    },
    "trusted": true
   },
   "outputs": [
    {
     "name": "stdout",
     "output_type": "stream",
     "text": [
      "Processing: /kaggle/input/agri-dataset/text1.pdf\n",
      "Processing: /kaggle/input/agri-dataset/text2.pdf\n",
      "Processing: /kaggle/input/agri-dataset/text3.pdf\n",
      "\n",
      "Total Chunks Created: 46\n"
     ]
    }
   ],
   "source": [
    "# Main pipeline\n",
    "all_chunks = []\n",
    "\n",
    "for pdf_path in pdf_files:\n",
    "    print(f\"Processing: {pdf_path}\")\n",
    "    raw_text = extract_text_from_pdf(pdf_path)\n",
    "    cleaned_text = clean_text(raw_text)\n",
    "    chunks = chunk_text(cleaned_text, chunk_size=chunk_size)\n",
    "    all_chunks.extend(chunks)\n",
    "\n",
    "print(f\"\\nTotal Chunks Created: {len(all_chunks)}\")\n",
    "\n",
    "# Save chunks if needed\n",
    "import json\n",
    "with open('agriculture_chunks.json', 'w', encoding='utf-8') as f:\n",
    "    json.dump(all_chunks, f, ensure_ascii=False, indent=2)"
   ]
  },
  {
   "cell_type": "markdown",
   "metadata": {},
   "source": [
    "**Model Loading Code (Embedding + Generation)**"
   ]
  },
  {
   "cell_type": "code",
   "execution_count": 5,
   "metadata": {
    "execution": {
     "iopub.execute_input": "2025-04-29T17:17:06.667424Z",
     "iopub.status.busy": "2025-04-29T17:17:06.667142Z",
     "iopub.status.idle": "2025-04-29T17:17:32.276335Z",
     "shell.execute_reply": "2025-04-29T17:17:32.275563Z",
     "shell.execute_reply.started": "2025-04-29T17:17:06.667400Z"
    },
    "trusted": true
   },
   "outputs": [
    {
     "name": "stderr",
     "output_type": "stream",
     "text": [
      "2025-04-29 17:17:18.778545: E external/local_xla/xla/stream_executor/cuda/cuda_fft.cc:477] Unable to register cuFFT factory: Attempting to register factory for plugin cuFFT when one has already been registered\n",
      "WARNING: All log messages before absl::InitializeLog() is called are written to STDERR\n",
      "E0000 00:00:1745947038.972962     107 cuda_dnn.cc:8310] Unable to register cuDNN factory: Attempting to register factory for plugin cuDNN when one has already been registered\n",
      "E0000 00:00:1745947039.029307     107 cuda_blas.cc:1418] Unable to register cuBLAS factory: Attempting to register factory for plugin cuBLAS when one has already been registered\n"
     ]
    }
   ],
   "source": [
    "from sentence_transformers import SentenceTransformer\n",
    "from transformers import AutoTokenizer, AutoModelForCausalLM, pipeline\n",
    "import torch"
   ]
  },
  {
   "cell_type": "code",
   "execution_count": 6,
   "metadata": {
    "execution": {
     "iopub.execute_input": "2025-04-29T17:17:32.278906Z",
     "iopub.status.busy": "2025-04-29T17:17:32.278432Z",
     "iopub.status.idle": "2025-04-29T17:17:32.283166Z",
     "shell.execute_reply": "2025-04-29T17:17:32.282368Z",
     "shell.execute_reply.started": "2025-04-29T17:17:32.278884Z"
    },
    "trusted": true
   },
   "outputs": [
    {
     "name": "stdout",
     "output_type": "stream",
     "text": [
      "Using device: cuda\n"
     ]
    }
   ],
   "source": [
    "# DEVICE setting\n",
    "device = 'cuda' if torch.cuda.is_available() else 'cpu'\n",
    "print(f\"Using device: {device}\")"
   ]
  },
  {
   "cell_type": "code",
   "execution_count": 7,
   "metadata": {
    "execution": {
     "iopub.execute_input": "2025-04-29T17:17:32.284111Z",
     "iopub.status.busy": "2025-04-29T17:17:32.283908Z",
     "iopub.status.idle": "2025-04-29T17:17:38.928071Z",
     "shell.execute_reply": "2025-04-29T17:17:38.927487Z",
     "shell.execute_reply.started": "2025-04-29T17:17:32.284095Z"
    },
    "trusted": true
   },
   "outputs": [
    {
     "data": {
      "application/vnd.jupyter.widget-view+json": {
       "model_id": "61ac5feee08544bdbbb2d28133528e48",
       "version_major": 2,
       "version_minor": 0
      },
      "text/plain": [
       "modules.json:   0%|          | 0.00/349 [00:00<?, ?B/s]"
      ]
     },
     "metadata": {},
     "output_type": "display_data"
    },
    {
     "data": {
      "application/vnd.jupyter.widget-view+json": {
       "model_id": "28222ecab23643b08153d4368d42f1bd",
       "version_major": 2,
       "version_minor": 0
      },
      "text/plain": [
       "config_sentence_transformers.json:   0%|          | 0.00/116 [00:00<?, ?B/s]"
      ]
     },
     "metadata": {},
     "output_type": "display_data"
    },
    {
     "data": {
      "application/vnd.jupyter.widget-view+json": {
       "model_id": "2a5d7bfd920c4efa89b6a33e7e239c7f",
       "version_major": 2,
       "version_minor": 0
      },
      "text/plain": [
       "README.md:   0%|          | 0.00/10.5k [00:00<?, ?B/s]"
      ]
     },
     "metadata": {},
     "output_type": "display_data"
    },
    {
     "data": {
      "application/vnd.jupyter.widget-view+json": {
       "model_id": "a77dba0a71004d44be5017b6c2a71c6b",
       "version_major": 2,
       "version_minor": 0
      },
      "text/plain": [
       "sentence_bert_config.json:   0%|          | 0.00/53.0 [00:00<?, ?B/s]"
      ]
     },
     "metadata": {},
     "output_type": "display_data"
    },
    {
     "data": {
      "application/vnd.jupyter.widget-view+json": {
       "model_id": "8a489c7cdea0490784aabb0bb356ef83",
       "version_major": 2,
       "version_minor": 0
      },
      "text/plain": [
       "config.json:   0%|          | 0.00/612 [00:00<?, ?B/s]"
      ]
     },
     "metadata": {},
     "output_type": "display_data"
    },
    {
     "name": "stderr",
     "output_type": "stream",
     "text": [
      "Xet Storage is enabled for this repo, but the 'hf_xet' package is not installed. Falling back to regular HTTP download. For better performance, install the package with: `pip install huggingface_hub[hf_xet]` or `pip install hf_xet`\n"
     ]
    },
    {
     "data": {
      "application/vnd.jupyter.widget-view+json": {
       "model_id": "6a8421b5f3d44d7ab7493dfc366a5c10",
       "version_major": 2,
       "version_minor": 0
      },
      "text/plain": [
       "model.safetensors:   0%|          | 0.00/90.9M [00:00<?, ?B/s]"
      ]
     },
     "metadata": {},
     "output_type": "display_data"
    },
    {
     "data": {
      "application/vnd.jupyter.widget-view+json": {
       "model_id": "c3adf589f12e4e738bb0e0caa478568a",
       "version_major": 2,
       "version_minor": 0
      },
      "text/plain": [
       "tokenizer_config.json:   0%|          | 0.00/350 [00:00<?, ?B/s]"
      ]
     },
     "metadata": {},
     "output_type": "display_data"
    },
    {
     "data": {
      "application/vnd.jupyter.widget-view+json": {
       "model_id": "4b076639195a4d47a9b9256520e43493",
       "version_major": 2,
       "version_minor": 0
      },
      "text/plain": [
       "vocab.txt:   0%|          | 0.00/232k [00:00<?, ?B/s]"
      ]
     },
     "metadata": {},
     "output_type": "display_data"
    },
    {
     "data": {
      "application/vnd.jupyter.widget-view+json": {
       "model_id": "85ad6a1dbaca4c07abc758df08c7cc17",
       "version_major": 2,
       "version_minor": 0
      },
      "text/plain": [
       "tokenizer.json:   0%|          | 0.00/466k [00:00<?, ?B/s]"
      ]
     },
     "metadata": {},
     "output_type": "display_data"
    },
    {
     "data": {
      "application/vnd.jupyter.widget-view+json": {
       "model_id": "d30f8dc850204d629dc4aec63e0e3d9e",
       "version_major": 2,
       "version_minor": 0
      },
      "text/plain": [
       "special_tokens_map.json:   0%|          | 0.00/112 [00:00<?, ?B/s]"
      ]
     },
     "metadata": {},
     "output_type": "display_data"
    },
    {
     "data": {
      "application/vnd.jupyter.widget-view+json": {
       "model_id": "611a093be92542c998d773b95cfedfc4",
       "version_major": 2,
       "version_minor": 0
      },
      "text/plain": [
       "config.json:   0%|          | 0.00/190 [00:00<?, ?B/s]"
      ]
     },
     "metadata": {},
     "output_type": "display_data"
    }
   ],
   "source": [
    "# 1. Load Embedding Model (for Retrieval)\n",
    "# (Very lightweight, fast on Kaggle GPUs)\n",
    "embedding_model_name = 'sentence-transformers/all-MiniLM-L6-v2'\n",
    "embedder = SentenceTransformer(embedding_model_name, device=device)"
   ]
  },
  {
   "cell_type": "code",
   "execution_count": 8,
   "metadata": {
    "execution": {
     "iopub.execute_input": "2025-04-29T17:17:38.929021Z",
     "iopub.status.busy": "2025-04-29T17:17:38.928806Z",
     "iopub.status.idle": "2025-04-29T17:17:38.932536Z",
     "shell.execute_reply": "2025-04-29T17:17:38.931798Z",
     "shell.execute_reply.started": "2025-04-29T17:17:38.929003Z"
    },
    "trusted": true
   },
   "outputs": [],
   "source": [
    "# Safer, smaller model (for memory constraints on Kaggle):\n",
    "generation_model_name = \"mistralai/Mistral-7B-Instruct-v0.2\""
   ]
  },
  {
   "cell_type": "code",
   "execution_count": null,
   "metadata": {
    "execution": {
     "iopub.execute_input": "2025-04-29T17:17:38.933577Z",
     "iopub.status.busy": "2025-04-29T17:17:38.933364Z",
     "iopub.status.idle": "2025-04-29T17:17:41.920655Z",
     "shell.execute_reply": "2025-04-29T17:17:41.919791Z",
     "shell.execute_reply.started": "2025-04-29T17:17:38.933563Z"
    },
    "trusted": true
   },
   "outputs": [],
   "source": [
    "# Install the Hugging Face CLI if not installed\n",
    "!pip install -q huggingface_hub\n",
    "\n",
    "# Login to Hugging Face\n",
    "from huggingface_hub import login\n",
    "\n",
    "# Put your Hugging Face token here\n",
    "# Get your token from https://huggingface.co/settings/tokens\n",
    "login(\"your hugging face access token\")"
   ]
  },
  {
   "cell_type": "code",
   "execution_count": 10,
   "metadata": {
    "execution": {
     "iopub.execute_input": "2025-04-29T17:17:41.921869Z",
     "iopub.status.busy": "2025-04-29T17:17:41.921619Z",
     "iopub.status.idle": "2025-04-29T17:18:49.702934Z",
     "shell.execute_reply": "2025-04-29T17:18:49.702377Z",
     "shell.execute_reply.started": "2025-04-29T17:17:41.921847Z"
    },
    "trusted": true
   },
   "outputs": [
    {
     "data": {
      "application/vnd.jupyter.widget-view+json": {
       "model_id": "4980c9f7635d436e8d31435a724646dd",
       "version_major": 2,
       "version_minor": 0
      },
      "text/plain": [
       "tokenizer_config.json:   0%|          | 0.00/2.10k [00:00<?, ?B/s]"
      ]
     },
     "metadata": {},
     "output_type": "display_data"
    },
    {
     "data": {
      "application/vnd.jupyter.widget-view+json": {
       "model_id": "3940f75b24144582b7c6aa8ac705a81e",
       "version_major": 2,
       "version_minor": 0
      },
      "text/plain": [
       "tokenizer.model:   0%|          | 0.00/493k [00:00<?, ?B/s]"
      ]
     },
     "metadata": {},
     "output_type": "display_data"
    },
    {
     "data": {
      "application/vnd.jupyter.widget-view+json": {
       "model_id": "a70b9f4990044ac9881f125200fbef4c",
       "version_major": 2,
       "version_minor": 0
      },
      "text/plain": [
       "tokenizer.json:   0%|          | 0.00/1.80M [00:00<?, ?B/s]"
      ]
     },
     "metadata": {},
     "output_type": "display_data"
    },
    {
     "data": {
      "application/vnd.jupyter.widget-view+json": {
       "model_id": "1a91f33df782453b96e52f4ed0511a17",
       "version_major": 2,
       "version_minor": 0
      },
      "text/plain": [
       "special_tokens_map.json:   0%|          | 0.00/414 [00:00<?, ?B/s]"
      ]
     },
     "metadata": {},
     "output_type": "display_data"
    },
    {
     "data": {
      "application/vnd.jupyter.widget-view+json": {
       "model_id": "0c3feca6cb4f42b3b5f87e633cf41377",
       "version_major": 2,
       "version_minor": 0
      },
      "text/plain": [
       "config.json:   0%|          | 0.00/596 [00:00<?, ?B/s]"
      ]
     },
     "metadata": {},
     "output_type": "display_data"
    },
    {
     "data": {
      "application/vnd.jupyter.widget-view+json": {
       "model_id": "83252934f88c452588d65a5403b8e0f0",
       "version_major": 2,
       "version_minor": 0
      },
      "text/plain": [
       "model.safetensors.index.json:   0%|          | 0.00/25.1k [00:00<?, ?B/s]"
      ]
     },
     "metadata": {},
     "output_type": "display_data"
    },
    {
     "data": {
      "application/vnd.jupyter.widget-view+json": {
       "model_id": "ee2d119d2ba84a7a9f11c9f311b8bcf9",
       "version_major": 2,
       "version_minor": 0
      },
      "text/plain": [
       "Fetching 3 files:   0%|          | 0/3 [00:00<?, ?it/s]"
      ]
     },
     "metadata": {},
     "output_type": "display_data"
    },
    {
     "data": {
      "application/vnd.jupyter.widget-view+json": {
       "model_id": "e0f2bac790654e5cafd12b54d64effdd",
       "version_major": 2,
       "version_minor": 0
      },
      "text/plain": [
       "model-00003-of-00003.safetensors:   0%|          | 0.00/4.54G [00:00<?, ?B/s]"
      ]
     },
     "metadata": {},
     "output_type": "display_data"
    },
    {
     "data": {
      "application/vnd.jupyter.widget-view+json": {
       "model_id": "88c2c204f6b249b498a15ff3d53c6319",
       "version_major": 2,
       "version_minor": 0
      },
      "text/plain": [
       "model-00001-of-00003.safetensors:   0%|          | 0.00/4.94G [00:00<?, ?B/s]"
      ]
     },
     "metadata": {},
     "output_type": "display_data"
    },
    {
     "data": {
      "application/vnd.jupyter.widget-view+json": {
       "model_id": "307b9b4a633a4c5a92034e4e2d34281b",
       "version_major": 2,
       "version_minor": 0
      },
      "text/plain": [
       "model-00002-of-00003.safetensors:   0%|          | 0.00/5.00G [00:00<?, ?B/s]"
      ]
     },
     "metadata": {},
     "output_type": "display_data"
    },
    {
     "data": {
      "application/vnd.jupyter.widget-view+json": {
       "model_id": "1dcc5cff36f240e8befd953889df3d47",
       "version_major": 2,
       "version_minor": 0
      },
      "text/plain": [
       "Loading checkpoint shards:   0%|          | 0/3 [00:00<?, ?it/s]"
      ]
     },
     "metadata": {},
     "output_type": "display_data"
    },
    {
     "data": {
      "application/vnd.jupyter.widget-view+json": {
       "model_id": "7ddae2914af8485e84ef853d0060a04e",
       "version_major": 2,
       "version_minor": 0
      },
      "text/plain": [
       "generation_config.json:   0%|          | 0.00/111 [00:00<?, ?B/s]"
      ]
     },
     "metadata": {},
     "output_type": "display_data"
    },
    {
     "name": "stderr",
     "output_type": "stream",
     "text": [
      "Device set to use cuda:0\n"
     ]
    },
    {
     "name": "stdout",
     "output_type": "stream",
     "text": [
      "\n",
      "Embedding model and Generation model loaded successfully!\n"
     ]
    }
   ],
   "source": [
    "# Load model and tokenizer\n",
    "from transformers import BitsAndBytesConfig\n",
    "tokenizer = AutoTokenizer.from_pretrained(generation_model_name, trust_remote_code=True)\n",
    "bnb_config = BitsAndBytesConfig(\n",
    "    load_in_4bit=True,    # Load model in 4-bit quantized mode\n",
    "    bnb_4bit_compute_dtype=torch.float16,\n",
    ")\n",
    "\n",
    "generation_model = AutoModelForCausalLM.from_pretrained(\n",
    "    generation_model_name,\n",
    "    trust_remote_code=True,\n",
    "    quantization_config=bnb_config,\n",
    "    device_map=\"auto\",\n",
    ")\n",
    "\n",
    "# Optional: Wrap in a text generation pipeline\n",
    "generator = pipeline(\"text-generation\", model=generation_model, tokenizer=tokenizer)\n",
    "\n",
    "print(\"\\nEmbedding model and Generation model loaded successfully!\")"
   ]
  },
  {
   "cell_type": "code",
   "execution_count": 11,
   "metadata": {
    "execution": {
     "iopub.execute_input": "2025-04-29T17:18:49.703964Z",
     "iopub.status.busy": "2025-04-29T17:18:49.703703Z",
     "iopub.status.idle": "2025-04-29T17:18:54.320650Z",
     "shell.execute_reply": "2025-04-29T17:18:54.319788Z",
     "shell.execute_reply.started": "2025-04-29T17:18:49.703943Z"
    },
    "trusted": true
   },
   "outputs": [
    {
     "name": "stdout",
     "output_type": "stream",
     "text": [
      "Collecting sacremoses\n",
      "  Downloading sacremoses-0.1.1-py3-none-any.whl.metadata (8.3 kB)\n",
      "Requirement already satisfied: regex in /usr/local/lib/python3.11/dist-packages (from sacremoses) (2024.11.6)\n",
      "Requirement already satisfied: click in /usr/local/lib/python3.11/dist-packages (from sacremoses) (8.1.8)\n",
      "Requirement already satisfied: joblib in /usr/local/lib/python3.11/dist-packages (from sacremoses) (1.4.2)\n",
      "Requirement already satisfied: tqdm in /usr/local/lib/python3.11/dist-packages (from sacremoses) (4.67.1)\n",
      "Downloading sacremoses-0.1.1-py3-none-any.whl (897 kB)\n",
      "\u001b[2K   \u001b[90m━━━━━━━━━━━━━━━━━━━━━━━━━━━━━━━━━━━━━━━━\u001b[0m \u001b[32m897.5/897.5 kB\u001b[0m \u001b[31m13.3 MB/s\u001b[0m eta \u001b[36m0:00:00\u001b[0m \u001b[36m0:00:01\u001b[0m\n",
      "\u001b[?25hInstalling collected packages: sacremoses\n",
      "Successfully installed sacremoses-0.1.1\n"
     ]
    }
   ],
   "source": [
    "!pip install sacremoses"
   ]
  },
  {
   "cell_type": "markdown",
   "metadata": {},
   "source": [
    "**Load Translation Model**"
   ]
  },
  {
   "cell_type": "code",
   "execution_count": 12,
   "metadata": {
    "execution": {
     "iopub.execute_input": "2025-04-29T17:18:54.322172Z",
     "iopub.status.busy": "2025-04-29T17:18:54.321881Z",
     "iopub.status.idle": "2025-04-29T17:18:57.855045Z",
     "shell.execute_reply": "2025-04-29T17:18:57.854208Z",
     "shell.execute_reply.started": "2025-04-29T17:18:54.322148Z"
    },
    "trusted": true
   },
   "outputs": [
    {
     "data": {
      "application/vnd.jupyter.widget-view+json": {
       "model_id": "cc7f78ac568e4251b34dd0cb943e191b",
       "version_major": 2,
       "version_minor": 0
      },
      "text/plain": [
       "config.json:   0%|          | 0.00/1.39k [00:00<?, ?B/s]"
      ]
     },
     "metadata": {},
     "output_type": "display_data"
    },
    {
     "data": {
      "application/vnd.jupyter.widget-view+json": {
       "model_id": "54145689d8ff4672a603e839f3362cb8",
       "version_major": 2,
       "version_minor": 0
      },
      "text/plain": [
       "pytorch_model.bin:   0%|          | 0.00/306M [00:00<?, ?B/s]"
      ]
     },
     "metadata": {},
     "output_type": "display_data"
    },
    {
     "data": {
      "application/vnd.jupyter.widget-view+json": {
       "model_id": "b40e92efa3024e72ae59c7cdf15aeff3",
       "version_major": 2,
       "version_minor": 0
      },
      "text/plain": [
       "generation_config.json:   0%|          | 0.00/293 [00:00<?, ?B/s]"
      ]
     },
     "metadata": {},
     "output_type": "display_data"
    },
    {
     "data": {
      "application/vnd.jupyter.widget-view+json": {
       "model_id": "ca7cac22ab6a4683b948b31b2633e3d6",
       "version_major": 2,
       "version_minor": 0
      },
      "text/plain": [
       "tokenizer_config.json:   0%|          | 0.00/44.0 [00:00<?, ?B/s]"
      ]
     },
     "metadata": {},
     "output_type": "display_data"
    },
    {
     "data": {
      "application/vnd.jupyter.widget-view+json": {
       "model_id": "f5975addd90247eabb7e5908d33f4c04",
       "version_major": 2,
       "version_minor": 0
      },
      "text/plain": [
       "model.safetensors:   0%|          | 0.00/306M [00:00<?, ?B/s]"
      ]
     },
     "metadata": {},
     "output_type": "display_data"
    },
    {
     "data": {
      "application/vnd.jupyter.widget-view+json": {
       "model_id": "e4dca82c1ede4ac4811ba0fa15c42629",
       "version_major": 2,
       "version_minor": 0
      },
      "text/plain": [
       "source.spm:   0%|          | 0.00/812k [00:00<?, ?B/s]"
      ]
     },
     "metadata": {},
     "output_type": "display_data"
    },
    {
     "data": {
      "application/vnd.jupyter.widget-view+json": {
       "model_id": "cb3afec4969b46799d7d8fe3f7b4760c",
       "version_major": 2,
       "version_minor": 0
      },
      "text/plain": [
       "target.spm:   0%|          | 0.00/1.07M [00:00<?, ?B/s]"
      ]
     },
     "metadata": {},
     "output_type": "display_data"
    },
    {
     "data": {
      "application/vnd.jupyter.widget-view+json": {
       "model_id": "aae1fc8f21e943e4be93dfc3faf54cfc",
       "version_major": 2,
       "version_minor": 0
      },
      "text/plain": [
       "vocab.json:   0%|          | 0.00/2.10M [00:00<?, ?B/s]"
      ]
     },
     "metadata": {},
     "output_type": "display_data"
    },
    {
     "name": "stderr",
     "output_type": "stream",
     "text": [
      "Device set to use cuda:0\n"
     ]
    }
   ],
   "source": [
    "# Load translation model (English to Hindi)\n",
    "translator = pipeline('translation_en_to_hi', model=\"Helsinki-NLP/opus-mt-en-hi\")\n",
    "def translate_to_hindi(text):\n",
    "    \"\"\"\n",
    "    Translate English text to Hindi.\n",
    "    \"\"\"\n",
    "    translated = translator(text, max_length=512)\n",
    "    return translated[0]['translation_text']"
   ]
  },
  {
   "cell_type": "markdown",
   "metadata": {},
   "source": [
    "**FAISS Indexing + Retrieval Code**"
   ]
  },
  {
   "cell_type": "code",
   "execution_count": 13,
   "metadata": {
    "execution": {
     "iopub.execute_input": "2025-04-29T17:18:57.856147Z",
     "iopub.status.busy": "2025-04-29T17:18:57.855925Z",
     "iopub.status.idle": "2025-04-29T17:18:58.721108Z",
     "shell.execute_reply": "2025-04-29T17:18:58.720270Z",
     "shell.execute_reply.started": "2025-04-29T17:18:57.856131Z"
    },
    "trusted": true
   },
   "outputs": [
    {
     "name": "stdout",
     "output_type": "stream",
     "text": [
      "Generating embeddings for chunks...\n"
     ]
    },
    {
     "data": {
      "application/vnd.jupyter.widget-view+json": {
       "model_id": "763db20001f34a94ae546d8592b21e07",
       "version_major": 2,
       "version_minor": 0
      },
      "text/plain": [
       "Batches:   0%|          | 0/2 [00:00<?, ?it/s]"
      ]
     },
     "metadata": {},
     "output_type": "display_data"
    },
    {
     "name": "stdout",
     "output_type": "stream",
     "text": [
      "✅ FAISS index created with 46 documents.\n",
      "✅ Saved FAISS index and chunk mapping files.\n"
     ]
    }
   ],
   "source": [
    "# Imports\n",
    "import faiss\n",
    "import numpy as np\n",
    "import json\n",
    "\n",
    "# Load your chunks (from preprocessing step)\n",
    "with open('agriculture_chunks.json', 'r', encoding='utf-8') as f:\n",
    "    chunks = json.load(f)\n",
    "\n",
    "# 1. Generate embeddings for all chunks\n",
    "print(\"Generating embeddings for chunks...\")\n",
    "chunk_embeddings = embedder.encode(chunks, batch_size=32, show_progress_bar=True, convert_to_numpy=True)\n",
    "\n",
    "# 2. Build FAISS Index\n",
    "embedding_dim = chunk_embeddings.shape[1]  # should be 384 for MiniLM\n",
    "index = faiss.IndexFlatL2(embedding_dim)\n",
    "index.add(chunk_embeddings)\n",
    "\n",
    "print(f\"✅ FAISS index created with {index.ntotal} documents.\")\n",
    "\n",
    "# 3. Save FAISS Index + Chunk Mapping (Optional)\n",
    "faiss.write_index(index, \"agriculture_faiss.index\")\n",
    "\n",
    "with open('agriculture_chunk_mapping.json', 'w', encoding='utf-8') as f:\n",
    "    json.dump(chunks, f, ensure_ascii=False, indent=2)\n",
    "\n",
    "print(\"✅ Saved FAISS index and chunk mapping files.\")"
   ]
  },
  {
   "cell_type": "markdown",
   "metadata": {},
   "source": [
    "**Retrieval + Augmentation + Generation Code**"
   ]
  },
  {
   "cell_type": "code",
   "execution_count": 14,
   "metadata": {
    "execution": {
     "iopub.execute_input": "2025-04-29T17:18:58.722410Z",
     "iopub.status.busy": "2025-04-29T17:18:58.722090Z",
     "iopub.status.idle": "2025-04-29T17:19:08.577975Z",
     "shell.execute_reply": "2025-04-29T17:19:08.577246Z",
     "shell.execute_reply.started": "2025-04-29T17:18:58.722383Z"
    },
    "trusted": true
   },
   "outputs": [
    {
     "data": {
      "application/vnd.jupyter.widget-view+json": {
       "model_id": "99a1a3471e1c40e0b783ad9661e4a2e8",
       "version_major": 2,
       "version_minor": 0
      },
      "text/plain": [
       "Batches:   0%|          | 0/1 [00:00<?, ?it/s]"
      ]
     },
     "metadata": {},
     "output_type": "display_data"
    },
    {
     "name": "stderr",
     "output_type": "stream",
     "text": [
      "Setting `pad_token_id` to `eos_token_id`:2 for open-end generation.\n"
     ]
    },
    {
     "name": "stdout",
     "output_type": "stream",
     "text": [
      "\n",
      "🧠 Final Answer:\n",
      " Brown spot disease is a fungal disease that affects rice crops. It is caused by the fungus Pyricularia grisea. To protect your rice crop from brown spot disease, consider implementing the following integrated pest management (IPM) strategies:\n",
      "\n",
      "1. Cultural practices:\n",
      "- Use disease-resistant rice varieties.\n",
      "- Maintain proper irrigation and drainage to prevent water stagnation.\n",
      "- Avoid overuse of nitrogen fertil\n"
     ]
    }
   ],
   "source": [
    "# Helper function: Retrieve Top-k Chunks\n",
    "def retrieve_chunks(query, top_k=5):\n",
    "    # Encode query\n",
    "    query_embedding = embedder.encode([query], convert_to_numpy=True)\n",
    "    # Search in FAISS index\n",
    "    distances, indices = index.search(query_embedding, top_k)\n",
    "    # Fetch corresponding chunks\n",
    "    retrieved_chunks = [chunks[idx] for idx in indices[0]]\n",
    "    return retrieved_chunks\n",
    "\n",
    "# Helper function: Build Augmented Prompt\n",
    "def build_prompt(query, retrieved_chunks):\n",
    "    context = \"\\n\\n\".join(retrieved_chunks)\n",
    "    prompt = f\"\"\"You are an agricultural expert helping farmers.\n",
    "Use the following context to answer the question.\n",
    "\n",
    "Context:\n",
    "{context}\n",
    "\n",
    "Question:\n",
    "{query}\n",
    "\n",
    "Answer:\"\"\"\n",
    "    return prompt\n",
    "\n",
    "def generate_answer(query):\n",
    "    retrieved_chunks = retrieve_chunks(query)\n",
    "    augmented_prompt = build_prompt(query, retrieved_chunks)\n",
    "    \n",
    "    output = generator(augmented_prompt, max_new_tokens=100, temperature=0.7, do_sample=True)[0]['generated_text']\n",
    "    \n",
    "    # Optional: Post-process to remove prompt from output\n",
    "    answer_start = output.find(\"Answer:\") + len(\"Answer:\")\n",
    "    final_answer = output[answer_start:].strip()\n",
    "    return final_answer\n",
    "\n",
    "# ✅ Ready! Example Usage:\n",
    "\n",
    "# Farmer Query Example\n",
    "user_query = \"How can I protect my rice crop from brown spot disease?\"\n",
    "\n",
    "# Generate answer\n",
    "answer = generate_answer(user_query)\n",
    "print(\"\\n🧠 Final Answer:\\n\", answer)"
   ]
  },
  {
   "cell_type": "code",
   "execution_count": 15,
   "metadata": {
    "execution": {
     "iopub.execute_input": "2025-04-29T17:19:08.581644Z",
     "iopub.status.busy": "2025-04-29T17:19:08.581105Z",
     "iopub.status.idle": "2025-04-29T17:19:08.586359Z",
     "shell.execute_reply": "2025-04-29T17:19:08.585781Z",
     "shell.execute_reply.started": "2025-04-29T17:19:08.581621Z"
    },
    "trusted": true
   },
   "outputs": [],
   "source": [
    "def get_crop_care_plan(crop_name, region=None, language='en'):\n",
    "    \"\"\"\n",
    "    Generate a detailed crop care plan.\n",
    "    \n",
    "    Parameters:\n",
    "    - crop_name (str): Name of the crop (e.g., \"Rice\", \"Tomato\").\n",
    "    - region (str, optional): Region for localized advice (e.g., \"Punjab\").\n",
    "    - language (str): 'en' for English, 'hi' for Hindi.\n",
    "    \n",
    "    Returns:\n",
    "    - care_plan (str): Final care plan in the specified language.\n",
    "    \"\"\"\n",
    "    # Step 1: Build prompt\n",
    "    care_prompt = f\"\"\"You are an agricultural expert helping farmers. \n",
    "Create a detailed 3-month care plan for growing \"{crop_name}\".\n",
    "{f\"Consider typical weather and soil conditions in {region}.\" if region else \"\"}\n",
    "\n",
    "Structure the plan week-by-week including:\n",
    "- Soil preparation\n",
    "- Watering schedule\n",
    "- Fertilization\n",
    "- Pest and disease management\n",
    "- Harvest tips\n",
    "\n",
    "Use simple language suitable for farmers.\n",
    "\n",
    "Care Plan:\"\"\"\n",
    "\n",
    "    # Step 2: Generate care plan (in English)\n",
    "    output = generator(care_prompt, max_new_tokens=500, temperature=0.7, do_sample=False)[0]['generated_text']\n",
    "    care_start = output.find(\"Care Plan:\") + len(\"Care Plan:\")\n",
    "    care_plan = output[care_start:].strip()\n",
    "    \n",
    "    # Step 3: Translate if needed\n",
    "    if language == 'hi':\n",
    "        care_plan = translate_to_hindi(care_plan)\n",
    "    \n",
    "    return care_plan\n"
   ]
  },
  {
   "cell_type": "code",
   "execution_count": 16,
   "metadata": {
    "execution": {
     "iopub.execute_input": "2025-04-29T17:19:08.587200Z",
     "iopub.status.busy": "2025-04-29T17:19:08.586996Z",
     "iopub.status.idle": "2025-04-29T17:20:01.756677Z",
     "shell.execute_reply": "2025-04-29T17:20:01.755866Z",
     "shell.execute_reply.started": "2025-04-29T17:19:08.587185Z"
    },
    "trusted": true
   },
   "outputs": [
    {
     "name": "stderr",
     "output_type": "stream",
     "text": [
      "/usr/local/lib/python3.11/dist-packages/transformers/generation/configuration_utils.py:631: UserWarning: `do_sample` is set to `False`. However, `temperature` is set to `0.7` -- this flag is only used in sample-based generation modes. You should set `do_sample=True` or unset `temperature`.\n",
      "  warnings.warn(\n",
      "Setting `pad_token_id` to `eos_token_id`:2 for open-end generation.\n",
      "Setting `pad_token_id` to `eos_token_id`:2 for open-end generation.\n"
     ]
    },
    {
     "name": "stdout",
     "output_type": "stream",
     "text": [
      "\n",
      " Care Plan (English):\n",
      " Growing Wheat in Haryana\n",
      "\n",
      "Month 1: Preparation and Planting (November - December)\n",
      "\n",
      "Week 1:\n",
      "1. Soil Preparation: Plow the land to a depth of 15-20 cm to loosen the soil and kill weeds.\n",
      "2. Watering: Wait for the first monsoon rains.\n",
      "\n",
      "Week 2-3:\n",
      "1. Soil Preparation: Harrow the land to remove stones and level the soil.\n",
      "2. Watering: Continue waiting for monsoon rains.\n",
      "\n",
      "Week 4:\n",
      "1. Soil Preparation: Rake the soil to remove any remaining debris and create a smooth, level surface.\n",
      "2. Planting: As soon as the rains start, sow wheat seeds at a depth of 1-2 cm and a spacing of 15-25 cm between rows.\n",
      "\n",
      "Week 5-6:\n",
      "1. Watering: Water the field if rains are insufficient.\n",
      "2. Fertilization: Apply 25-30 kg of NPK (Nitrogen, Phosphorus, Potassium) fertilizer per hectare.\n",
      "\n",
      "Month 2: Growth and Maintenance (December - January)\n",
      "\n",
      "Week 1-2:\n",
      "1. Watering: Continue irrigating if rains are scarce.\n",
      "2. Fertilization: Apply 15-20 kg of NPK fertilizer per hectare.\n",
      "3. Pest and Disease Management: Watch for signs of Hessian fly, aphids, and rust. Use pesticides as needed.\n",
      "\n",
      "Week 3-4:\n",
      "1. Watering: Monitor soil moisture levels and irrigate as needed.\n",
      "2. Fertilization: Apply 10-15 kg of NPK fertilizer per hectare.\n",
      "3. Pest and Disease Management: Keep an eye out for pests and diseases.\n",
      "\n",
      "Month 3: Harvest and Post-Harvest Care (February - March)\n",
      "\n",
      "Week 1-2:\n",
      "1. Harvest: Start harvesting when the grains turn golden brown and the stalks start to dry out.\n",
      "2. Post-Harvest Care\n",
      "\n",
      " देखभाल योजना (हिंदी):\n",
      " पानी के बारे में गहराई से जाँच करने के लिए इस तरह के ढेरों निशान हैं, जैसे पानी के छोटे - छोटे कण, पानी के छोटे - छोटे कण, पानी के छोटे - छोटे बीजों, और जल के बीजों को साफ - सुथरा रखने के लिए ।\n"
     ]
    }
   ],
   "source": [
    "# Example 1: English Plan\n",
    "plan_en = get_crop_care_plan(crop_name=\"Wheat\", region=\"Haryana\", language='en')\n",
    "print(\"\\n Care Plan (English):\\n\", plan_en)\n",
    "\n",
    "# Example 2: Hindi Plan\n",
    "plan_hi = get_crop_care_plan(crop_name=\"Tomato\", region=\"Madhya Pradesh\", language='hi')\n",
    "print(\"\\n देखभाल योजना (हिंदी):\\n\", plan_hi)"
   ]
  },
  {
   "cell_type": "code",
   "execution_count": 17,
   "metadata": {
    "execution": {
     "iopub.execute_input": "2025-04-29T17:20:01.757770Z",
     "iopub.status.busy": "2025-04-29T17:20:01.757547Z",
     "iopub.status.idle": "2025-04-29T17:20:03.589230Z",
     "shell.execute_reply": "2025-04-29T17:20:03.588689Z",
     "shell.execute_reply.started": "2025-04-29T17:20:01.757753Z"
    },
    "trusted": true
   },
   "outputs": [
    {
     "data": {
      "application/vnd.jupyter.widget-view+json": {
       "model_id": "46197bd5da81442b9df9033ea2e1da1f",
       "version_major": 2,
       "version_minor": 0
      },
      "text/plain": [
       "config.json:   0%|          | 0.00/3.57k [00:00<?, ?B/s]"
      ]
     },
     "metadata": {},
     "output_type": "display_data"
    },
    {
     "data": {
      "application/vnd.jupyter.widget-view+json": {
       "model_id": "fb4e5212b2da4d0e95f899c52c0e679f",
       "version_major": 2,
       "version_minor": 0
      },
      "text/plain": [
       "pytorch_model.bin:   0%|          | 0.00/9.34M [00:00<?, ?B/s]"
      ]
     },
     "metadata": {},
     "output_type": "display_data"
    },
    {
     "data": {
      "application/vnd.jupyter.widget-view+json": {
       "model_id": "6d3cc29d3ea04de29b0cbd50c6f577f7",
       "version_major": 2,
       "version_minor": 0
      },
      "text/plain": [
       "preprocessor_config.json:   0%|          | 0.00/408 [00:00<?, ?B/s]"
      ]
     },
     "metadata": {},
     "output_type": "display_data"
    },
    {
     "name": "stderr",
     "output_type": "stream",
     "text": [
      "Using a slow image processor as `use_fast` is unset and a slow processor was saved with this model. `use_fast=True` will be the default behavior in v4.52, even if the model was saved with a slow processor. This will result in minor differences in outputs. You'll still be able to use a slow processor with `use_fast=False`.\n",
      "/usr/local/lib/python3.11/dist-packages/transformers/models/mobilenet_v2/feature_extraction_mobilenet_v2.py:28: FutureWarning: The class MobileNetV2FeatureExtractor is deprecated and will be removed in version 5 of Transformers. Please use MobileNetV2ImageProcessor instead.\n",
      "  warnings.warn(\n"
     ]
    },
    {
     "data": {
      "application/vnd.jupyter.widget-view+json": {
       "model_id": "ec066ae955dd4c52bdee153121a0434e",
       "version_major": 2,
       "version_minor": 0
      },
      "text/plain": [
       "model.safetensors:   0%|          | 0.00/9.26M [00:00<?, ?B/s]"
      ]
     },
     "metadata": {},
     "output_type": "display_data"
    }
   ],
   "source": [
    "from transformers import AutoModelForImageClassification, AutoImageProcessor\n",
    "from transformers import AutoFeatureExtractor\n",
    "from transformers import AutoModelForImageClassification\n",
    "\n",
    "model = AutoModelForImageClassification.from_pretrained(\"linkanjarad/mobilenet_v2_1.0_224-plant-disease-identification\")\n",
    "processor = AutoImageProcessor.from_pretrained(\"linkanjarad/mobilenet_v2_1.0_224-plant-disease-identification\")\n",
    "disease_model = AutoModelForImageClassification.from_pretrained(\"linkanjarad/mobilenet_v2_1.0_224-plant-disease-identification\")\n",
    "image_processor = AutoFeatureExtractor.from_pretrained(\"linkanjarad/mobilenet_v2_1.0_224-plant-disease-identification\")\n",
    "\n",
    "# Helper to predict disease\n",
    "def predict_disease(image_path):\n",
    "    image = Image.open(image_path).convert(\"RGB\")\n",
    "    inputs = image_processor(images=image, return_tensors=\"pt\")\n",
    "    with torch.no_grad():\n",
    "        outputs = disease_model(**inputs)\n",
    "    logits = outputs.logits\n",
    "    predicted_class_idx = logits.argmax(-1).item()\n",
    "    predicted_disease = disease_model.config.id2label[predicted_class_idx]\n",
    "    return predicted_disease"
   ]
  },
  {
   "cell_type": "code",
   "execution_count": 18,
   "metadata": {
    "execution": {
     "iopub.execute_input": "2025-04-29T17:20:03.590200Z",
     "iopub.status.busy": "2025-04-29T17:20:03.589979Z",
     "iopub.status.idle": "2025-04-29T17:20:03.595071Z",
     "shell.execute_reply": "2025-04-29T17:20:03.594473Z",
     "shell.execute_reply.started": "2025-04-29T17:20:03.590182Z"
    },
    "trusted": true
   },
   "outputs": [],
   "source": [
    "def get_treatment_advice(disease_name, crop_name=None, language='en'):\n",
    "    \"\"\"\n",
    "    Generate treatment advice based on the detected disease.\n",
    "    \"\"\"\n",
    "    prompt = f\"\"\"You are an agricultural expert.\n",
    "A farmer's crop is affected by the disease \"{disease_name}\" {f\"on {crop_name}\" if crop_name else \"\"}.\n",
    "Suggest a simple, practical treatment plan.\n",
    "Include both organic and chemical control options where appropriate.\n",
    "\n",
    "Treatment Plan:\"\"\"\n",
    "    \n",
    "    output = generator(prompt, max_new_tokens=500, temperature=0.7, do_sample=False)[0]['generated_text']\n",
    "    advice_start = output.find(\"Treatment Plan:\") + len(\"Treatment Plan:\")\n",
    "    advice = output[advice_start:].strip()\n",
    "    \n",
    "    if language == 'hi':\n",
    "        advice = translate_to_hindi(advice)\n",
    "    \n",
    "    return advice"
   ]
  },
  {
   "cell_type": "code",
   "execution_count": 19,
   "metadata": {
    "execution": {
     "iopub.execute_input": "2025-04-29T17:20:03.596199Z",
     "iopub.status.busy": "2025-04-29T17:20:03.595955Z",
     "iopub.status.idle": "2025-04-29T17:20:03.608135Z",
     "shell.execute_reply": "2025-04-29T17:20:03.607537Z",
     "shell.execute_reply.started": "2025-04-29T17:20:03.596174Z"
    },
    "trusted": true
   },
   "outputs": [],
   "source": [
    "from PIL import Image"
   ]
  },
  {
   "cell_type": "code",
   "execution_count": 20,
   "metadata": {
    "execution": {
     "iopub.execute_input": "2025-04-29T17:20:03.609298Z",
     "iopub.status.busy": "2025-04-29T17:20:03.608988Z",
     "iopub.status.idle": "2025-04-29T17:20:03.854379Z",
     "shell.execute_reply": "2025-04-29T17:20:03.853725Z",
     "shell.execute_reply.started": "2025-04-29T17:20:03.609273Z"
    },
    "trusted": true
   },
   "outputs": [
    {
     "name": "stdout",
     "output_type": "stream",
     "text": [
      " Detected Disease: Strawberry with Leaf Scorch\n"
     ]
    }
   ],
   "source": [
    "# Upload or pass image\n",
    "image_path = \"/kaggle/input/image-vision/tomato_leaf.jpg\"\n",
    "\n",
    "# Step 1: Predict disease\n",
    "predicted_disease = predict_disease(image_path)\n",
    "print(\" Detected Disease:\", predicted_disease)"
   ]
  },
  {
   "cell_type": "code",
   "execution_count": 21,
   "metadata": {
    "execution": {
     "iopub.execute_input": "2025-04-29T17:20:03.855344Z",
     "iopub.status.busy": "2025-04-29T17:20:03.855118Z",
     "iopub.status.idle": "2025-04-29T17:20:29.276751Z",
     "shell.execute_reply": "2025-04-29T17:20:29.275962Z",
     "shell.execute_reply.started": "2025-04-29T17:20:03.855312Z"
    },
    "trusted": true
   },
   "outputs": [
    {
     "name": "stderr",
     "output_type": "stream",
     "text": [
      "Setting `pad_token_id` to `eos_token_id`:2 for open-end generation.\n"
     ]
    },
    {
     "name": "stdout",
     "output_type": "stream",
     "text": [
      "\n",
      " Treatment Advice:\n",
      " 1. Identification and Diagnosis:\n",
      "   * Confirm the diagnosis of \"Strawberry Leaf Scorch\" disease by observing the symptoms such as:\n",
      "      * Leaves turning yellow, brown, or red, starting from the margins and progressing towards the center.\n",
      "      * Leaf edges may become brittle and dry, eventually leading to leaf drop.\n",
      "      * Fruits may be small, misshapen, or have a red or purple tinge.\n",
      "      * Plants may wilt or die.\n",
      "\n",
      "2. Cultural Practices:\n",
      "   * Improve soil drainage to prevent waterlogging, as the disease thrives in wet conditions.\n",
      "   * Practice crop rotation with non-host plants to reduce the buildup of the disease in the soil.\n",
      "   * Prune and remove infected plants to prevent the spread of the disease.\n",
      "   * Maintain proper spacing between plants to ensure good air circulation and sunlight penetration.\n",
      "\n",
      "3. Organic Control:\n",
      "   * Use neem oil or horticultural oil to smother the fungus that causes the disease. Apply when new leaves emerge and repeat every 7-10 days.\n",
      "   * Apply sulfur or copper-based fungicides as a preventative measure. Apply before the first sign of disease.\n",
      "   * Use a compost tea or liquid seaweed extract to strengthen the plant's immune system.\n",
      "   * Use a garlic spray or extract to provide systemic protection against the disease.\n",
      "\n",
      "4. Chemical Control:\n",
      "   * Use a fungicide containing active ingredients such as thiophanate-methyl, chlorothalonil, or copper hydroxide to control the disease. Apply before the first sign of disease or when new leaves emerge.\n",
      "   * Use a systemic fungicide such as benomyl or methylazoxyl-methyl to provide long-term protection. Apply according to the label instructions.\n",
      "   * Use a foliar fertilizer to provide essential nutrients and improve plant health, making it more resistant to the disease.\n",
      "\n",
      "5. Prevention:\n",
      "   * Maintain good cultural practices such as proper irrigation, fertilization, and pruning.\n",
      "   * Monitor the crop regularly for early signs of disease and take\n"
     ]
    }
   ],
   "source": [
    "# Step 2: Get treatment advice\n",
    "advice = get_treatment_advice(predicted_disease, crop_name=\"Strawberry\", language='en')\n",
    "print(\"\\n Treatment Advice:\\n\", advice)"
   ]
  },
  {
   "cell_type": "code",
   "execution_count": 22,
   "metadata": {
    "execution": {
     "iopub.execute_input": "2025-04-29T17:20:29.277734Z",
     "iopub.status.busy": "2025-04-29T17:20:29.277493Z",
     "iopub.status.idle": "2025-04-29T17:20:29.364556Z",
     "shell.execute_reply": "2025-04-29T17:20:29.363835Z",
     "shell.execute_reply.started": "2025-04-29T17:20:29.277707Z"
    },
    "trusted": true
   },
   "outputs": [
    {
     "name": "stdout",
     "output_type": "stream",
     "text": [
      " Detected Disease: Bell Pepper with Bacterial Spot\n"
     ]
    }
   ],
   "source": [
    "# Upload or pass image\n",
    "image_path = \"/kaggle/input/image-2/image-2.jpg\"\n",
    "\n",
    "# Step 1: Predict disease\n",
    "predicted_disease = predict_disease(image_path)\n",
    "print(\" Detected Disease:\", predicted_disease)"
   ]
  },
  {
   "cell_type": "code",
   "execution_count": 23,
   "metadata": {
    "execution": {
     "iopub.execute_input": "2025-04-29T17:20:29.365657Z",
     "iopub.status.busy": "2025-04-29T17:20:29.365336Z",
     "iopub.status.idle": "2025-04-29T17:20:54.617902Z",
     "shell.execute_reply": "2025-04-29T17:20:54.617238Z",
     "shell.execute_reply.started": "2025-04-29T17:20:29.365633Z"
    },
    "trusted": true
   },
   "outputs": [
    {
     "name": "stderr",
     "output_type": "stream",
     "text": [
      "Setting `pad_token_id` to `eos_token_id`:2 for open-end generation.\n"
     ]
    },
    {
     "name": "stdout",
     "output_type": "stream",
     "text": [
      "\n",
      " Treatment Advice:\n",
      " 1. Identification and Early Detection:\n",
      "   * Inspect the bell pepper plants regularly for early signs of bacterial spot, such as water-soaked lesions on leaves, stems, and fruits.\n",
      "   * Quarantine and remove infected plants to prevent the spread of the disease.\n",
      "\n",
      "2. Cultural Practices:\n",
      "   * Practice good hygiene in the field, such as removing plant debris and using clean tools to prevent the spread of the disease.\n",
      "   * Avoid overhead irrigation to minimize the splash of water and the spread of the disease.\n",
      "   * Use mulch to maintain soil moisture and reduce the need for frequent irrigation.\n",
      "   * Rotate crops to prevent the buildup of the bacterial inoculum in the soil.\n",
      "\n",
      "3. Organic Control:\n",
      "   * Use neem oil or copper-based fungicides as a preventative measure. These treatments can be applied as a foliar spray or as a soil drench.\n",
      "   * Use sulfur or lime sulfur as a foliar spray to control the disease. These treatments can be applied at the first sign of the disease.\n",
      "   * Use a garlic extract or extract of chrysanthemum cineraria as a foliar spray to control the disease.\n",
      "   * Use a baking soda solution (1 tbsp baking soda, 1 tbsp vegetable oil, 1 quart water) as a foliar spray to control the disease.\n",
      "\n",
      "4. Chemical Control:\n",
      "   * Use copper-based fungicides, such as copper hydroxide or copper oxychloride, as a preventative measure or as a curative treatment.\n",
      "   * Use streptomycin or oxytetracycline as a curative treatment for bacterial spot. These antibiotics can be applied as a foliar spray or as a soil drench.\n",
      "   * Use mancozeb or chlorothalonil as a preventative measure or as a curative treatment for bacterial spot. These fungicides can be applied as a foliar spray.\n",
      "   * Use phosphorus acid or orthophosphoric acid as a soil drench to control the disease.\n",
      "\n",
      "5. Integrated Management:\n",
      "   * Use a combination of cultural practices, organic control methods, and chemical control methods to manage bacter\n"
     ]
    }
   ],
   "source": [
    "# Step 2: Get treatment advice\n",
    "advice = get_treatment_advice(predicted_disease, crop_name=\"Bell Pepper\", language='en')\n",
    "print(\"\\n Treatment Advice:\\n\", advice)"
   ]
  },
  {
   "cell_type": "code",
   "execution_count": 24,
   "metadata": {
    "execution": {
     "iopub.execute_input": "2025-04-29T17:20:54.618758Z",
     "iopub.status.busy": "2025-04-29T17:20:54.618565Z",
     "iopub.status.idle": "2025-04-29T17:21:26.997564Z",
     "shell.execute_reply": "2025-04-29T17:21:26.996773Z",
     "shell.execute_reply.started": "2025-04-29T17:20:54.618743Z"
    },
    "trusted": true
   },
   "outputs": [
    {
     "name": "stderr",
     "output_type": "stream",
     "text": [
      "Setting `pad_token_id` to `eos_token_id`:2 for open-end generation.\n",
      "Setting `pad_token_id` to `eos_token_id`:2 for open-end generation.\n"
     ]
    },
    {
     "name": "stdout",
     "output_type": "stream",
     "text": [
      "\n",
      " Field Report:\n",
      " \n",
      "As an expert agricultural officer, provide a DAILY FIELD REPORT.\n",
      "\n",
      "Crop: Wheat\n",
      "Region: Punjab\n",
      "Season: Rabi\n",
      "\n",
      "Include:\n",
      "- Current crop growth stage\n",
      "- Observed pest or disease issues (if any)\n",
      "- Soil and moisture conditions\n",
      "- Weather impact on the crop\n",
      "- Clear and actionable advice to farmers (short points)\n",
      "\n",
      "Only provide the final report. DO NOT restate the prompt.\n",
      "\n",
      "---\n",
      "\n",
      "Date: 15th March 2023\n",
      "\n",
      "Subject: Daily Field Report - Wheat Crop, Punjab, Rabi Season\n",
      "\n",
      "Current Crop Growth Stage: The wheat crop in Punjab has entered the dough stage. The grains have become soft and doughy in texture, and the plants are turning golden brown. The crop is almost ready for harvest.\n",
      "\n",
      "Observed Pest or Disease Issues: Minimal pest or disease issues have been reported in the wheat crop. The occasional occurrence of Hessian fly infestation and Fusarium head blight has been noted in some areas. Farmers are advised to scout their fields regularly and take necessary measures to control these pests and diseases.\n",
      "\n",
      "Soil and Moisture Conditions: The soil moisture levels are ideal for the wheat crop at this stage. The crop requires minimal water to complete the ripening process. The topsoil is friable, and the subsoil is moist, ensuring that the wheat crop receives sufficient water and nutrients.\n",
      "\n",
      "Weather Impact on the Crop: The weather has been favorable for the wheat crop in\n"
     ]
    },
    {
     "name": "stderr",
     "output_type": "stream",
     "text": [
      "Setting `pad_token_id` to `eos_token_id`:2 for open-end generation.\n"
     ]
    },
    {
     "name": "stdout",
     "output_type": "stream",
     "text": [
      "\n",
      " Pest Prediction:\n",
      " \n",
      "As an agricultural pest prediction model:\n",
      "\n",
      "Crop: Wheat\n",
      "Region: Punjab\n",
      "Current Weather: humid, 30°C\n",
      "\n",
      "Predict likely pests based on climate conditions.\n",
      "Advise farmers in short actionable points on how to prevent pest outbreaks.\n",
      "\n",
      "Avoid restating the input, only give prediction and suggestions.\n",
      "\n",
      "Based on the current climate conditions in Punjab, the following pests may pose a risk to wheat crops:\n",
      "1. Armyworms (Mydesia spp.)\n",
      "   - Actionable points:\n",
      "     - Scout fields regularly for armyworms, as they can be difficult to detect until large infestations occur.\n",
      "     - Consider using insecticidal baits to control armyworms, especially in areas with a history of infestations.\n",
      "     - Implement cultural practices, such as crop rotation and tillage, to reduce the risk of armyworm infestations.\n",
      "\n",
      "2. Stem rust (Puccinia graminis)\n",
      "   - Actionable points:\n",
      "     - Monitor fields closely for early signs of rust, such as orange or red pustules on the stems and leaves.\n",
      "     - Consider using fungicides for preventative treatment, especially in areas with a history of rust\n",
      "\n",
      " Smart Irrigation Advice:\n",
      " \n",
      "You are a smart irrigation advisor.\n",
      "\n",
      "Crop: Wheat\n",
      "Soil Moisture: Low\n",
      "Upcoming Weather: Dry and sunny next week\n",
      "\n",
      "Give specific and technical irrigation advice:\n",
      "- How much water to apply (mm or inches)\n",
      "- Best time of day to irrigate\n",
      "- Special precautions based on weather\n",
      "\n",
      "Answer clearly without repeating the question.\n",
      "\n",
      "Given the current low soil moisture level and the forecast of dry and sunny weather for the upcoming week, it is highly recommended to apply sufficient water to maintain the crop's health and prevent further moisture depletion. The amount of water to apply depends on the crop's water requirement and the soil's water holding capacity.\n",
      "\n",
      "Assuming a wheat crop with an average water requirement of 4-6 mm per day, it is suggested to apply around 15-30 mm of water in one irrigation event, considering the evapotranspiration losses and the predicted dry weather conditions.\n",
      "\n",
      "It is essential to irrigate during the cooler parts of the day to minimize water loss due to evaporation and to optimize the water use efficiency. Early morning or late evening are the best time frames for irrigation.\n",
      "\n",
      "Further\n"
     ]
    }
   ],
   "source": [
    "# Improved Field Report Simulation\n",
    "def simulate_field_report(crop, region, season):\n",
    "    prompt = f\"\"\"\n",
    "As an expert agricultural officer, provide a DAILY FIELD REPORT.\n",
    "\n",
    "Crop: {crop}\n",
    "Region: {region}\n",
    "Season: {season}\n",
    "\n",
    "Include:\n",
    "- Current crop growth stage\n",
    "- Observed pest or disease issues (if any)\n",
    "- Soil and moisture conditions\n",
    "- Weather impact on the crop\n",
    "- Clear and actionable advice to farmers (short points)\n",
    "\n",
    "Only provide the final report. DO NOT restate the prompt.\n",
    "\"\"\"\n",
    "    response = generator(prompt, max_new_tokens=250, temperature=0.7, do_sample=True, top_p=0.9)[0]['generated_text']\n",
    "    return response\n",
    "\n",
    "# Improved Pest Prediction Simulation\n",
    "def simulate_pest_prediction(crop, region, current_weather):\n",
    "    prompt = f\"\"\"\n",
    "As an agricultural pest prediction model:\n",
    "\n",
    "Crop: {crop}\n",
    "Region: {region}\n",
    "Current Weather: {current_weather}\n",
    "\n",
    "Predict likely pests based on climate conditions.\n",
    "Advise farmers in short actionable points on how to prevent pest outbreaks.\n",
    "\n",
    "Avoid restating the input, only give prediction and suggestions.\n",
    "\"\"\"\n",
    "    response = generator(prompt, max_new_tokens=200, temperature=0.7, do_sample=True, top_p=0.9)[0]['generated_text']\n",
    "    return response\n",
    "\n",
    "# Improved Smart Irrigation Advice Simulation\n",
    "def simulate_irrigation_advice(crop, soil_moisture, upcoming_weather):\n",
    "    prompt = f\"\"\"\n",
    "You are a smart irrigation advisor.\n",
    "\n",
    "Crop: {crop}\n",
    "Soil Moisture: {soil_moisture}\n",
    "Upcoming Weather: {upcoming_weather}\n",
    "\n",
    "Give specific and technical irrigation advice:\n",
    "- How much water to apply (mm or inches)\n",
    "- Best time of day to irrigate\n",
    "- Special precautions based on weather\n",
    "\n",
    "Answer clearly without repeating the question.\n",
    "\"\"\"\n",
    "    response = generator(prompt, max_new_tokens=180, temperature=0.7, do_sample=True, top_p=0.9)[0]['generated_text']\n",
    "    return response\n",
    "\n",
    "# Example Usage:\n",
    "crop = \"Wheat\"\n",
    "region = \"Punjab\"\n",
    "season = \"Rabi\"\n",
    "\n",
    "print(\"\\n Field Report:\\n\", simulate_field_report(crop, region, season))\n",
    "\n",
    "print(\"\\n Pest Prediction:\\n\", simulate_pest_prediction(crop, region, \"humid, 30°C\"))\n",
    "\n",
    "print(\"\\n Smart Irrigation Advice:\\n\", simulate_irrigation_advice(crop, \"Low\", \"Dry and sunny next week\"))"
   ]
  },
  {
   "cell_type": "code",
   "execution_count": 25,
   "metadata": {
    "execution": {
     "iopub.execute_input": "2025-04-29T17:21:26.998984Z",
     "iopub.status.busy": "2025-04-29T17:21:26.998468Z",
     "iopub.status.idle": "2025-04-29T17:21:27.003041Z",
     "shell.execute_reply": "2025-04-29T17:21:27.002368Z",
     "shell.execute_reply.started": "2025-04-29T17:21:26.998956Z"
    },
    "trusted": true
   },
   "outputs": [],
   "source": [
    "def generate_farmer_conversation(crop, issue):\n",
    "    prompt = f\"\"\"\n",
    "Create a realistic and natural-sounding conversation between two farmers about a problem with their {crop} crop.\n",
    "\n",
    "The issue they are discussing is: {issue}.\n",
    "\n",
    "Farmer 1 should describe the symptoms or problem they are seeing in the crop.\n",
    "Farmer 2 should respond with personal experience, possible causes, and simple advice.\n",
    "\n",
    "Use simple, rural-style English like real farmers would speak.\n",
    "Don't make it too formal. Keep it casual, relatable, and practical.\n",
    "\n",
    "Start like this:\n",
    "Farmer 1: Hey, have you noticed something strange with the {crop} plants lately?\n",
    "\"\"\"\n",
    "\n",
    "    response = generator(prompt, max_new_tokens=350, temperature=0.85, do_sample=True)[0]['generated_text']\n",
    "    return response.strip()"
   ]
  },
  {
   "cell_type": "code",
   "execution_count": 26,
   "metadata": {
    "execution": {
     "iopub.execute_input": "2025-04-29T17:21:27.003838Z",
     "iopub.status.busy": "2025-04-29T17:21:27.003662Z",
     "iopub.status.idle": "2025-04-29T17:21:44.936016Z",
     "shell.execute_reply": "2025-04-29T17:21:44.935364Z",
     "shell.execute_reply.started": "2025-04-29T17:21:27.003825Z"
    },
    "trusted": true
   },
   "outputs": [
    {
     "name": "stderr",
     "output_type": "stream",
     "text": [
      "Setting `pad_token_id` to `eos_token_id`:2 for open-end generation.\n"
     ]
    },
    {
     "name": "stdout",
     "output_type": "stream",
     "text": [
      "👨‍🌾 Farmer Conversation:\n",
      " Create a realistic and natural-sounding conversation between two farmers about a problem with their tomato crop.\n",
      "\n",
      "The issue they are discussing is: leaf curl disease.\n",
      "\n",
      "Farmer 1 should describe the symptoms or problem they are seeing in the crop.\n",
      "Farmer 2 should respond with personal experience, possible causes, and simple advice.\n",
      "\n",
      "Use simple, rural-style English like real farmers would speak.\n",
      "Don't make it too formal. Keep it casual, relatable, and practical.\n",
      "\n",
      "Start like this:\n",
      "Farmer 1: Hey, have you noticed something strange with the tomato plants lately?\n",
      "\n",
      "Farmer 2: Yeah, I have. Some of mine are lookin' kindafunny these days.\n",
      "\n",
      "Farmer 1: (nods) I'm seein' the same thing. Mostly the leaves are curlin' up, and they got these odd streaks on 'em.\n",
      "\n",
      "Farmer 2: That's leaf curl disease, my friend. I've had it back in '98, and it ain't nothing pleasant.\n",
      "\n",
      "Farmer 1: (frowning) I thought I took care of all the common ailments, but I guess not. What causes it?\n",
      "\n",
      "Farmer 2: It can be a few things. Could be poor irrigation, uneven water supply, or a nutrient deficiency. But most common cause is wind-borne viruses, like Tomato Yellow Leaf Curl Virus.\n",
      "\n",
      "Farmer 1: Wind-borne? How can I prevent it?\n",
      "\n",
      "Farmer 2:Well, first, ensure proper irrigation. Make sure every plant gets consistent water supply. Don't let the soil dry up too much or stay too wet. Second, if you're dealing with nutrient deficiency, add the essential nutrients to the soil, test and balance the pH if needed. Wear gloves while handling the plants - some farmers might have spread it through contaminated tools or hands.\n",
      "\n",
      "Farmer 1: (leaning in) And once it hits, can I do anything?\n",
      "\n",
      "Farmer 2: Not really, you'd need to remove the infected plants\n"
     ]
    }
   ],
   "source": [
    "conversation = generate_farmer_conversation(\"tomato\", \"leaf curl disease\")\n",
    "print(\"👨‍🌾 Farmer Conversation:\\n\", conversation)"
   ]
  },
  {
   "cell_type": "markdown",
   "metadata": {},
   "source": [
    "**Agricultural Chatbot**"
   ]
  },
  {
   "cell_type": "code",
   "execution_count": 27,
   "metadata": {
    "execution": {
     "iopub.execute_input": "2025-04-29T17:21:44.937122Z",
     "iopub.status.busy": "2025-04-29T17:21:44.936837Z",
     "iopub.status.idle": "2025-04-29T17:21:44.940661Z",
     "shell.execute_reply": "2025-04-29T17:21:44.939867Z",
     "shell.execute_reply.started": "2025-04-29T17:21:44.937096Z"
    },
    "trusted": true
   },
   "outputs": [],
   "source": [
    "# Pest Control Advice: \"How do I control aphids on my beans?\"\n",
    "# Best Crop Practices: \"What are the best irrigation practices for wheat?\"\n",
    "# Fertilizer Recommendations: \"How much fertilizer should I use for corn?\"\n",
    "# Seasonal Tips: \"When is the best time to plant rice in Madhya Pradesh?\""
   ]
  },
  {
   "cell_type": "code",
   "execution_count": null,
   "metadata": {
    "execution": {
     "iopub.execute_input": "2025-04-29T17:21:44.941609Z",
     "iopub.status.busy": "2025-04-29T17:21:44.941405Z"
    },
    "trusted": true
   },
   "outputs": [
    {
     "name": "stdout",
     "output_type": "stream",
     "text": [
      "👩‍🌾 Ask your agriculture-related question (or type 'exit' to quit):  How do I control aphids on my beans?\n"
     ]
    },
    {
     "data": {
      "application/vnd.jupyter.widget-view+json": {
       "model_id": "7a00743b3dfc4c7e8679574a54745679",
       "version_major": 2,
       "version_minor": 0
      },
      "text/plain": [
       "Batches:   0%|          | 0/1 [00:00<?, ?it/s]"
      ]
     },
     "metadata": {},
     "output_type": "display_data"
    },
    {
     "name": "stderr",
     "output_type": "stream",
     "text": [
      "Setting `pad_token_id` to `eos_token_id`:2 for open-end generation.\n"
     ]
    },
    {
     "name": "stdout",
     "output_type": "stream",
     "text": [
      "🤖 Chatbot: To control aphids on your beans, consider using a combination of beneficial insects and preventive measures. Release ladybird beetles (Coccinella septempunctata) and lacewings (Chrysoperla rufilabris) every 3 weeks as adults. Ladybird beetles prey on aphids and can sustain large populations during aphid outbreaks. Green lacewings produce rapid eradication of aphids and are\n"
     ]
    }
   ],
   "source": [
    "while True:\n",
    "    query = input(\"👩‍🌾 Ask your agriculture-related question (or type 'exit' to quit): \")\n",
    "    if query.lower() == 'exit':\n",
    "        print(\"👋 Goodbye!\")\n",
    "        break\n",
    "    answer = generate_answer(query)  # <-- Your function from RAG\n",
    "    print(\"🤖 Chatbot:\", answer)"
   ]
  }
 ],
 "metadata": {
  "kaggle": {
   "accelerator": "nvidiaTeslaT4",
   "dataSources": [
    {
     "datasetId": 7277550,
     "sourceId": 11603397,
     "sourceType": "datasetVersion"
    },
    {
     "datasetId": 7277974,
     "sourceId": 11603928,
     "sourceType": "datasetVersion"
    },
    {
     "datasetId": 7278142,
     "sourceId": 11604133,
     "sourceType": "datasetVersion"
    }
   ],
   "dockerImageVersionId": 31011,
   "isGpuEnabled": true,
   "isInternetEnabled": true,
   "language": "python",
   "sourceType": "notebook"
  },
  "kernelspec": {
   "display_name": "Python 3",
   "language": "python",
   "name": "python3"
  },
  "language_info": {
   "codemirror_mode": {
    "name": "ipython",
    "version": 3
   },
   "file_extension": ".py",
   "mimetype": "text/x-python",
   "name": "python",
   "nbconvert_exporter": "python",
   "pygments_lexer": "ipython3",
   "version": "3.11.11"
  }
 },
 "nbformat": 4,
 "nbformat_minor": 4
}
