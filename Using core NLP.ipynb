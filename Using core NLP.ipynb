{
 "cells": [
  {
   "cell_type": "code",
   "execution_count": 13,
   "metadata": {
    "execution": {
     "iopub.execute_input": "2025-04-26T18:26:55.372994Z",
     "iopub.status.busy": "2025-04-26T18:26:55.372696Z",
     "iopub.status.idle": "2025-04-26T18:26:58.406839Z",
     "shell.execute_reply": "2025-04-26T18:26:58.405989Z",
     "shell.execute_reply.started": "2025-04-26T18:26:55.372970Z"
    },
    "trusted": true
   },
   "outputs": [
    {
     "name": "stdout",
     "output_type": "stream",
     "text": [
      "Requirement already satisfied: googletrans==4.0.0-rc1 in /usr/local/lib/python3.11/dist-packages (4.0.0rc1)\n",
      "Requirement already satisfied: langdetect in /usr/local/lib/python3.11/dist-packages (1.0.9)\n",
      "Requirement already satisfied: httpx==0.13.3 in /usr/local/lib/python3.11/dist-packages (from googletrans==4.0.0-rc1) (0.13.3)\n",
      "Requirement already satisfied: certifi in /usr/local/lib/python3.11/dist-packages (from httpx==0.13.3->googletrans==4.0.0-rc1) (2025.1.31)\n",
      "Requirement already satisfied: hstspreload in /usr/local/lib/python3.11/dist-packages (from httpx==0.13.3->googletrans==4.0.0-rc1) (2025.1.1)\n",
      "Requirement already satisfied: sniffio in /usr/local/lib/python3.11/dist-packages (from httpx==0.13.3->googletrans==4.0.0-rc1) (1.3.1)\n",
      "Requirement already satisfied: chardet==3.* in /usr/local/lib/python3.11/dist-packages (from httpx==0.13.3->googletrans==4.0.0-rc1) (3.0.4)\n",
      "Requirement already satisfied: idna==2.* in /usr/local/lib/python3.11/dist-packages (from httpx==0.13.3->googletrans==4.0.0-rc1) (2.10)\n",
      "Requirement already satisfied: rfc3986<2,>=1.3 in /usr/local/lib/python3.11/dist-packages (from httpx==0.13.3->googletrans==4.0.0-rc1) (1.5.0)\n",
      "Requirement already satisfied: httpcore==0.9.* in /usr/local/lib/python3.11/dist-packages (from httpx==0.13.3->googletrans==4.0.0-rc1) (0.9.1)\n",
      "Requirement already satisfied: h11<0.10,>=0.8 in /usr/local/lib/python3.11/dist-packages (from httpcore==0.9.*->httpx==0.13.3->googletrans==4.0.0-rc1) (0.9.0)\n",
      "Requirement already satisfied: h2==3.* in /usr/local/lib/python3.11/dist-packages (from httpcore==0.9.*->httpx==0.13.3->googletrans==4.0.0-rc1) (3.2.0)\n",
      "Requirement already satisfied: hyperframe<6,>=5.2.0 in /usr/local/lib/python3.11/dist-packages (from h2==3.*->httpcore==0.9.*->httpx==0.13.3->googletrans==4.0.0-rc1) (5.2.0)\n",
      "Requirement already satisfied: hpack<4,>=3.0 in /usr/local/lib/python3.11/dist-packages (from h2==3.*->httpcore==0.9.*->httpx==0.13.3->googletrans==4.0.0-rc1) (3.0.0)\n",
      "Requirement already satisfied: six in /usr/local/lib/python3.11/dist-packages (from langdetect) (1.17.0)\n",
      "\n",
      "[INFO] Loading dataset...\n",
      "[INFO] Dataset loaded successfully!\n",
      "\n",
      "[INFO] Cleaning dataset (lowercasing)...\n",
      "[INFO] Cleaning done!\n",
      "\n",
      "[INFO] Creating TF-IDF vectors...\n",
      "[INFO] TF-IDF vectors created!\n",
      "\n",
      "========================================\n",
      "[NEW QUERY RECEIVED]\n",
      "========================================\n",
      "\n",
      "[STEP] Detecting language of user query...\n",
      "[INFO] Detected Language: hi\n",
      "[STEP] Converting query to English...\n",
      "[INFO] Translated Query: How to ensure the correct amount of water in paddy plants?\n",
      "\n",
      "[STEP] Fetching best answer from dataset...\n",
      "[INFO] Best matching answer fetched.\n",
      "[INFO] Answer from Dataset (in English): 1 by 1 meters is the suitable spacing\n",
      "\n",
      "[STEP] Translating answer back to user's original language...\n",
      "[INFO] Translated Answer: 1 से 1 मीटर उपयुक्त रिक्ति है\n",
      "\n",
      "[FINAL OUTPUT]\n",
      "========================================\n",
      "1 से 1 मीटर उपयुक्त रिक्ति है\n"
     ]
    }
   ],
   "source": [
    "# Step 1: Install required libraries\n",
    "!pip install googletrans==4.0.0-rc1 langdetect\n",
    "\n",
    "# Step 2: Import libraries\n",
    "import pandas as pd\n",
    "from googletrans import Translator\n",
    "from langdetect import detect\n",
    "from sklearn.feature_extraction.text import TfidfVectorizer\n",
    "from sklearn.metrics.pairwise import cosine_similarity\n",
    "\n",
    "# Step 3: Load Dataset\n",
    "print(\"\\n[INFO] Loading dataset...\")\n",
    "dataset = pd.read_csv(\"/kaggle/input/agronomic-question-and-answer-dataset/AgroQA Dataset.csv\")\n",
    "print(\"[INFO] Dataset loaded successfully!\")\n",
    "\n",
    "# Step 4: Basic Text Cleaning\n",
    "print(\"\\n[INFO] Cleaning dataset (lowercasing)...\")\n",
    "dataset['Question'] = dataset['Question'].str.lower()\n",
    "dataset['Answer'] = dataset['Answer'].str.lower()\n",
    "print(\"[INFO] Cleaning done!\")\n",
    "\n",
    "# Step 5: Create TF-IDF Vectorizer\n",
    "print(\"\\n[INFO] Creating TF-IDF vectors...\")\n",
    "vectorizer = TfidfVectorizer(stop_words='english')\n",
    "X = vectorizer.fit_transform(dataset['Question'])\n",
    "print(\"[INFO] TF-IDF vectors created!\")\n",
    "\n",
    "# Step 6: Helper Functions\n",
    "translator = Translator()\n",
    "\n",
    "def detect_and_translate_to_english(query):\n",
    "    \"\"\"Detect language and translate query to English if needed\"\"\"\n",
    "    print(\"\\n[STEP] Detecting language of user query...\")\n",
    "    detected_language = detect(query)\n",
    "    print(f\"[INFO] Detected Language: {detected_language}\")\n",
    "    if detected_language != 'en':\n",
    "        print(\"[STEP] Converting query to English...\")\n",
    "        translated_query = translator.translate(query, src=detected_language, dest='en').text\n",
    "        print(f\"[INFO] Translated Query: {translated_query}\")\n",
    "        return translated_query, detected_language\n",
    "    else:\n",
    "        print(\"[INFO] Query is already in English.\")\n",
    "        return query, 'en'\n",
    "\n",
    "def translate_answer(answer, target_lang):\n",
    "    \"\"\"Translate the answer back to user's original language\"\"\"\n",
    "    if target_lang != 'en':\n",
    "        print(\"\\n[STEP] Translating answer back to user's original language...\")\n",
    "        translated_answer = translator.translate(answer, dest=target_lang).text\n",
    "        print(f\"[INFO] Translated Answer: {translated_answer}\")\n",
    "        return translated_answer\n",
    "    else:\n",
    "        print(\"\\n[INFO] Answer already in English. No translation needed.\")\n",
    "        return answer\n",
    "\n",
    "def get_best_answer(query):\n",
    "    \"\"\"Find the best matching answer from dataset\"\"\"\n",
    "    print(\"\\n[STEP] Fetching best answer from dataset...\")\n",
    "    query_vector = vectorizer.transform([query.lower()])\n",
    "    cosine_sim = cosine_similarity(query_vector, X)\n",
    "    index = cosine_sim.argmax()\n",
    "    best_answer = dataset['Answer'][index]\n",
    "    print(f\"[INFO] Best matching answer fetched.\")\n",
    "    return best_answer\n",
    "\n",
    "# Step 7: Main Function\n",
    "def qa_system(user_query):\n",
    "    print(\"\\n========================================\")\n",
    "    print(\"[NEW QUERY RECEIVED]\")\n",
    "    print(\"========================================\")\n",
    "    \n",
    "    # Step 7.1: Detect and Translate User Query to English\n",
    "    english_query, user_language = detect_and_translate_to_english(user_query)\n",
    "    \n",
    "    # Step 7.2: Find best matching answer\n",
    "    answer_in_english = get_best_answer(english_query)\n",
    "    print(f\"[INFO] Answer from Dataset (in English): {answer_in_english}\")\n",
    "    \n",
    "    # Step 7.3: Translate Answer back to user's original language\n",
    "    final_answer = translate_answer(answer_in_english, user_language)\n",
    "    \n",
    "    print(\"\\n[FINAL OUTPUT]\")\n",
    "    print(\"========================================\")\n",
    "    return final_answer\n",
    "\n",
    "# Step 8: Example Usage\n",
    "user_query = \"धान के पौधों में पानी की सही मात्रा कैसे सुनिश्चित करें?\"\n",
    "final_response = qa_system(user_query)\n",
    "print(final_response)"
   ]
  },
  {
   "cell_type": "markdown",
   "metadata": {},
   "source": [
    "### Examples in multiple languages"
   ]
  },
  {
   "cell_type": "code",
   "execution_count": 14,
   "metadata": {
    "execution": {
     "iopub.execute_input": "2025-04-26T18:29:13.315022Z",
     "iopub.status.busy": "2025-04-26T18:29:13.314246Z",
     "iopub.status.idle": "2025-04-26T18:29:15.979834Z",
     "shell.execute_reply": "2025-04-26T18:29:15.979199Z",
     "shell.execute_reply.started": "2025-04-26T18:29:13.314990Z"
    },
    "trusted": true
   },
   "outputs": [
    {
     "name": "stdout",
     "output_type": "stream",
     "text": [
      "\n",
      "========================================\n",
      "[NEW QUERY RECEIVED]\n",
      "========================================\n",
      "\n",
      "[STEP] Detecting language of user query...\n",
      "[INFO] Detected Language: ta\n",
      "[STEP] Converting query to English...\n",
      "[INFO] Translated Query: How to control worms in paddy crops?\n",
      "\n",
      "[STEP] Fetching best answer from dataset...\n",
      "[INFO] Best matching answer fetched.\n",
      "[INFO] Answer from Dataset (in English): larvae of some moths\n",
      "\n",
      "[STEP] Translating answer back to user's original language...\n",
      "[INFO] Translated Answer: சில அந்துப்பூச்சிகளின் லார்வாக்கள்\n",
      "\n",
      "[FINAL OUTPUT]\n",
      "========================================\n",
      "சில அந்துப்பூச்சிகளின் லார்வாக்கள்\n"
     ]
    }
   ],
   "source": [
    "# Example in tamil\n",
    "user_query = \"எப்படி நெல் பயிர்களில் புழுக்கள் கட்டுப்படுத்த வேண்டும்?\"\n",
    "final_response = qa_system(user_query)\n",
    "print(final_response)"
   ]
  },
  {
   "cell_type": "code",
   "execution_count": 15,
   "metadata": {
    "execution": {
     "iopub.execute_input": "2025-04-26T18:29:52.764338Z",
     "iopub.status.busy": "2025-04-26T18:29:52.764052Z",
     "iopub.status.idle": "2025-04-26T18:29:55.489660Z",
     "shell.execute_reply": "2025-04-26T18:29:55.489001Z",
     "shell.execute_reply.started": "2025-04-26T18:29:52.764317Z"
    },
    "trusted": true
   },
   "outputs": [
    {
     "name": "stdout",
     "output_type": "stream",
     "text": [
      "\n",
      "========================================\n",
      "[NEW QUERY RECEIVED]\n",
      "========================================\n",
      "\n",
      "[STEP] Detecting language of user query...\n",
      "[INFO] Detected Language: mr\n",
      "[STEP] Converting query to English...\n",
      "[INFO] Translated Query: How to give water properly in rice crops?\n",
      "\n",
      "[STEP] Fetching best answer from dataset...\n",
      "[INFO] Best matching answer fetched.\n",
      "[INFO] Answer from Dataset (in English): usually in the evenings when the evaporation is low due to heat\n",
      "\n",
      "[STEP] Translating answer back to user's original language...\n",
      "[INFO] Translated Answer: सहसा संध्याकाळी जेव्हा उष्णतेमुळे बाष्पीभवन कमी होते\n",
      "\n",
      "[FINAL OUTPUT]\n",
      "========================================\n",
      "सहसा संध्याकाळी जेव्हा उष्णतेमुळे बाष्पीभवन कमी होते\n"
     ]
    }
   ],
   "source": [
    "# Example in marathi\n",
    "user_query = \"तांदळाच्या पिकांमध्ये पाणी योग्य प्रमाणात कसे द्यावे?\"\n",
    "final_response = qa_system(user_query)\n",
    "print(final_response)"
   ]
  },
  {
   "cell_type": "code",
   "execution_count": 16,
   "metadata": {
    "execution": {
     "iopub.execute_input": "2025-04-26T18:30:34.905275Z",
     "iopub.status.busy": "2025-04-26T18:30:34.905017Z",
     "iopub.status.idle": "2025-04-26T18:30:37.754321Z",
     "shell.execute_reply": "2025-04-26T18:30:37.753442Z",
     "shell.execute_reply.started": "2025-04-26T18:30:34.905257Z"
    },
    "trusted": true
   },
   "outputs": [
    {
     "name": "stdout",
     "output_type": "stream",
     "text": [
      "\n",
      "========================================\n",
      "[NEW QUERY RECEIVED]\n",
      "========================================\n",
      "\n",
      "[STEP] Detecting language of user query...\n",
      "[INFO] Detected Language: pa\n",
      "[STEP] Converting query to English...\n",
      "[INFO] Translated Query: How should I control pests in my rice crops?\n",
      "\n",
      "[STEP] Fetching best answer from dataset...\n",
      "[INFO] Best matching answer fetched.\n",
      "[INFO] Answer from Dataset (in English): use resistant varieties and increase on water availability for crop vigor\n",
      "\n",
      "[STEP] Translating answer back to user's original language...\n",
      "[INFO] Translated Answer: ਰੋਧਕ ਕਿਸਮਾਂ ਦੀ ਵਰਤੋਂ ਕਰੋ ਅਤੇ ਫਸਲਾਂ ਦੇ ਜੋਸ਼ ਲਈ ਪਾਣੀ ਦੀ ਉਪਲਬਧਤਾ 'ਤੇ ਵਾਧਾ ਕਰੋ\n",
      "\n",
      "[FINAL OUTPUT]\n",
      "========================================\n",
      "ਰੋਧਕ ਕਿਸਮਾਂ ਦੀ ਵਰਤੋਂ ਕਰੋ ਅਤੇ ਫਸਲਾਂ ਦੇ ਜੋਸ਼ ਲਈ ਪਾਣੀ ਦੀ ਉਪਲਬਧਤਾ 'ਤੇ ਵਾਧਾ ਕਰੋ\n"
     ]
    }
   ],
   "source": [
    "# Example in PUNJABI\n",
    "user_query = \"ਮੈਨੂੰ ਆਪਣੇ ਚੌਲਾਂ ਦੀਆਂ ਫ਼ਸਲਾਂ ਵਿੱਚ ਕੀੜਿਆਂ ਨੂੰ ਕਿਵੇਂ ਨਿਯੰਤਰਤ ਕਰਨਾ ਚਾਹੀਦਾ ਹੈ?\"\n",
    "final_response = qa_system(user_query)\n",
    "print(final_response)"
   ]
  },
  {
   "cell_type": "markdown",
   "metadata": {},
   "source": [
    "### Multiple queries in NLP"
   ]
  },
  {
   "cell_type": "code",
   "execution_count": 17,
   "metadata": {
    "execution": {
     "iopub.execute_input": "2025-04-26T18:31:46.005154Z",
     "iopub.status.busy": "2025-04-26T18:31:46.004442Z",
     "iopub.status.idle": "2025-04-26T18:31:46.008786Z",
     "shell.execute_reply": "2025-04-26T18:31:46.008100Z",
     "shell.execute_reply.started": "2025-04-26T18:31:46.005131Z"
    },
    "trusted": true
   },
   "outputs": [],
   "source": [
    "queries = [\n",
    "    \"मुझे अपने टमाटर के पौधों के लिए उर्वरक की आवश्यकता है।\",  # Hindi\n",
    "    \"माझ्या गव्हाच्या पिकाला पाणी कधी द्यावे?\",                # Marathi\n",
    "    \"எப்படி எனது நெல் பயிர்களை பூச்சி இருந்து பாதுகாப்பது?\",  # Tamil\n",
    "    \"আমি আমার ধানের ফসলের পোকামাকড় কিভাবে নিয়ন্ত্রণ করব?\",   # Bengali\n",
    "    \"ਮੈਨੂੰ ਆਪਣੇ ਚੌਲਾਂ ਦੀਆਂ ਫ਼ਸਲਾਂ ਵਿੱਚ ਕੀੜਿਆਂ ਨੂੰ ਕਿਵੇਂ ਨਿਯੰਤਰਤ ਕਰਨਾ ਚਾਹੀਦਾ ਹੈ?\"  # Punjabi\n",
    "]"
   ]
  },
  {
   "cell_type": "code",
   "execution_count": 18,
   "metadata": {
    "execution": {
     "iopub.execute_input": "2025-04-26T18:31:47.153609Z",
     "iopub.status.busy": "2025-04-26T18:31:47.153313Z",
     "iopub.status.idle": "2025-04-26T18:31:57.131541Z",
     "shell.execute_reply": "2025-04-26T18:31:57.130790Z",
     "shell.execute_reply.started": "2025-04-26T18:31:47.153587Z"
    },
    "trusted": true
   },
   "outputs": [
    {
     "name": "stdout",
     "output_type": "stream",
     "text": [
      "==================================================\n",
      "Original Query: मुझे अपने टमाटर के पौधों के लिए उर्वरक की आवश्यकता है।\n",
      "Detected Language: hi\n",
      "Translating to English: I need fertilizer for my tomato plants.\n",
      "Answer from dataset (in English): not always but if the soil is limited it is advised to apply\n",
      "Translated Answer (in user's language): हमेशा नहीं, लेकिन अगर मिट्टी सीमित है तो इसे लागू करने की सलाह दी जाती है\n",
      "==================================================\n",
      "Original Query: माझ्या गव्हाच्या पिकाला पाणी कधी द्यावे?\n",
      "Detected Language: mr\n",
      "Translating to English: When to give water to my wheat crop?\n",
      "Answer from dataset (in English): in the roots and stems\n",
      "Translated Answer (in user's language): मुळे आणि देठांमध्ये\n",
      "==================================================\n",
      "Original Query: எப்படி எனது நெல் பயிர்களை பூச்சி இருந்து பாதுகாப்பது?\n",
      "Detected Language: ta\n",
      "Translating to English: How to protect my paddy crops from insect?\n",
      "Answer from dataset (in English): by fencing the garden\n",
      "Translated Answer (in user's language): தோட்டத்தை ஃபென்சிங் செய்வதன் மூலம்\n",
      "==================================================\n",
      "Original Query: আমি আমার ধানের ফসলের পোকামাকড় কিভাবে নিয়ন্ত্রণ করব?\n",
      "Detected Language: bn\n",
      "Translating to English: How do I control my paddy crop insects?\n",
      "Answer from dataset (in English): apply pesticide\n",
      "Translated Answer (in user's language): কীটনাশক প্রয়োগ করুন\n",
      "==================================================\n",
      "Original Query: ਮੈਨੂੰ ਆਪਣੇ ਚੌਲਾਂ ਦੀਆਂ ਫ਼ਸਲਾਂ ਵਿੱਚ ਕੀੜਿਆਂ ਨੂੰ ਕਿਵੇਂ ਨਿਯੰਤਰਤ ਕਰਨਾ ਚਾਹੀਦਾ ਹੈ?\n",
      "Detected Language: pa\n",
      "Translating to English: How should I control pests in my rice crops?\n",
      "Answer from dataset (in English): use resistant varieties and increase on water availability for crop vigor\n",
      "Translated Answer (in user's language): ਰੋਧਕ ਕਿਸਮਾਂ ਦੀ ਵਰਤੋਂ ਕਰੋ ਅਤੇ ਫਸਲਾਂ ਦੇ ਜੋਸ਼ ਲਈ ਪਾਣੀ ਦੀ ਉਪਲਬਧਤਾ 'ਤੇ ਵਾਧਾ ਕਰੋ\n"
     ]
    }
   ],
   "source": [
    "for query in queries:\n",
    "    print(\"=\"*50)\n",
    "    print(f\"Original Query: {query}\")\n",
    "    \n",
    "    # Detect language\n",
    "    detected_language = detect(query)\n",
    "    print(f\"Detected Language: {detected_language}\")\n",
    "    \n",
    "    # Translate to English if needed\n",
    "    if detected_language != 'en':\n",
    "        translator = Translator()\n",
    "        translated_query = translator.translate(query, src=detected_language, dest='en').text\n",
    "        print(f\"Translating to English: {translated_query}\")\n",
    "    else:\n",
    "        translated_query = query\n",
    "        print(\"Query is already in English.\")\n",
    "    \n",
    "    # Get answer from dataset\n",
    "    answer = get_answer(translated_query)\n",
    "    print(f\"Answer from dataset (in English): {answer}\")\n",
    "    \n",
    "    # Translate answer back to original language\n",
    "    if detected_language != 'en':\n",
    "        translated_answer = translator.translate(answer, dest=detected_language).text\n",
    "        print(f\"Translated Answer (in user's language): {translated_answer}\")\n",
    "    else:\n",
    "        print(f\"Answer (already in English): {answer}\")"
   ]
  },
  {
   "cell_type": "markdown",
   "metadata": {},
   "source": [
    "# CHATBOT using NLP"
   ]
  },
  {
   "cell_type": "code",
   "execution_count": 19,
   "metadata": {
    "execution": {
     "iopub.execute_input": "2025-04-26T18:34:06.841980Z",
     "iopub.status.busy": "2025-04-26T18:34:06.841226Z",
     "iopub.status.idle": "2025-04-26T18:35:15.166975Z",
     "shell.execute_reply": "2025-04-26T18:35:15.166276Z",
     "shell.execute_reply.started": "2025-04-26T18:34:06.841953Z"
    },
    "trusted": true
   },
   "outputs": [
    {
     "name": "stdout",
     "output_type": "stream",
     "text": [
      "Requirement already satisfied: googletrans==4.0.0-rc1 in /usr/local/lib/python3.11/dist-packages (4.0.0rc1)\n",
      "Requirement already satisfied: langdetect in /usr/local/lib/python3.11/dist-packages (1.0.9)\n",
      "Requirement already satisfied: httpx==0.13.3 in /usr/local/lib/python3.11/dist-packages (from googletrans==4.0.0-rc1) (0.13.3)\n",
      "Requirement already satisfied: certifi in /usr/local/lib/python3.11/dist-packages (from httpx==0.13.3->googletrans==4.0.0-rc1) (2025.1.31)\n",
      "Requirement already satisfied: hstspreload in /usr/local/lib/python3.11/dist-packages (from httpx==0.13.3->googletrans==4.0.0-rc1) (2025.1.1)\n",
      "Requirement already satisfied: sniffio in /usr/local/lib/python3.11/dist-packages (from httpx==0.13.3->googletrans==4.0.0-rc1) (1.3.1)\n",
      "Requirement already satisfied: chardet==3.* in /usr/local/lib/python3.11/dist-packages (from httpx==0.13.3->googletrans==4.0.0-rc1) (3.0.4)\n",
      "Requirement already satisfied: idna==2.* in /usr/local/lib/python3.11/dist-packages (from httpx==0.13.3->googletrans==4.0.0-rc1) (2.10)\n",
      "Requirement already satisfied: rfc3986<2,>=1.3 in /usr/local/lib/python3.11/dist-packages (from httpx==0.13.3->googletrans==4.0.0-rc1) (1.5.0)\n",
      "Requirement already satisfied: httpcore==0.9.* in /usr/local/lib/python3.11/dist-packages (from httpx==0.13.3->googletrans==4.0.0-rc1) (0.9.1)\n",
      "Requirement already satisfied: h11<0.10,>=0.8 in /usr/local/lib/python3.11/dist-packages (from httpcore==0.9.*->httpx==0.13.3->googletrans==4.0.0-rc1) (0.9.0)\n",
      "Requirement already satisfied: h2==3.* in /usr/local/lib/python3.11/dist-packages (from httpcore==0.9.*->httpx==0.13.3->googletrans==4.0.0-rc1) (3.2.0)\n",
      "Requirement already satisfied: hyperframe<6,>=5.2.0 in /usr/local/lib/python3.11/dist-packages (from h2==3.*->httpcore==0.9.*->httpx==0.13.3->googletrans==4.0.0-rc1) (5.2.0)\n",
      "Requirement already satisfied: hpack<4,>=3.0 in /usr/local/lib/python3.11/dist-packages (from h2==3.*->httpcore==0.9.*->httpx==0.13.3->googletrans==4.0.0-rc1) (3.0.0)\n",
      "Requirement already satisfied: six in /usr/local/lib/python3.11/dist-packages (from langdetect) (1.17.0)\n",
      "      Crop                                           Question  \\\n",
      "0    maize  Apart from hand weeding, what other method use...   \n",
      "1    beans  Apart from insecticide, what other method used...   \n",
      "2    maize  Apart from sun drying which other method used ...   \n",
      "3  cassava  Apart from sun drying, what other method can I...   \n",
      "4    beans           As a farmer when should I harvest beans.   \n",
      "\n",
      "                                              Answer  \n",
      "0                    Machinery weeders are available  \n",
      "1  Use resistant verities and increase on water a...  \n",
      "2    Use tarpaulins or cemented floor free from dust  \n",
      "3                                       Solar driers  \n",
      "4  When the beans pods are yellowish green or dry...  \n"
     ]
    },
    {
     "name": "stdout",
     "output_type": "stream",
     "text": [
      "Enter your question (or type 'bye' to exit):  As a farmer when should i harvest beans?\n"
     ]
    },
    {
     "name": "stdout",
     "output_type": "stream",
     "text": [
      "Detected Language: en\n",
      "Query is already in English.\n",
      "Getting answer from dataset...\n",
      "Answer in English: when the beans pods are yellowish green or dry brown\n",
      "Translating answer back to en...\n",
      "Answer in en: when the beans pods are yellowish green or dry brown\n"
     ]
    },
    {
     "name": "stdout",
     "output_type": "stream",
     "text": [
      "Enter your question (or type 'bye' to exit):  when shoud i harvest beans?\n"
     ]
    },
    {
     "name": "stdout",
     "output_type": "stream",
     "text": [
      "Detected Language: en\n",
      "Query is already in English.\n",
      "Getting answer from dataset...\n",
      "Answer in English: pull them out of ground with hands\n",
      "Translating answer back to en...\n",
      "Answer in en: pull them out of ground with hands\n"
     ]
    },
    {
     "name": "stdout",
     "output_type": "stream",
     "text": [
      "Enter your question (or type 'bye' to exit):  bye\n"
     ]
    },
    {
     "name": "stdout",
     "output_type": "stream",
     "text": [
      "Goodbye!\n"
     ]
    }
   ],
   "source": [
    "# Install necessary libraries\n",
    "!pip install googletrans==4.0.0-rc1 langdetect\n",
    "import pandas as pd\n",
    "from googletrans import Translator\n",
    "from langdetect import detect\n",
    "from sklearn.feature_extraction.text import TfidfVectorizer\n",
    "from sklearn.metrics.pairwise import cosine_similarity\n",
    "\n",
    "# Load your dataset (assuming it's a CSV)\n",
    "dataset = pd.read_csv(\"/kaggle/input/agronomic-question-and-answer-dataset/AgroQA Dataset.csv\")\n",
    "\n",
    "# Check the first few rows\n",
    "print(dataset.head())\n",
    "\n",
    "# Example of basic text cleaning\n",
    "dataset['Question'] = dataset['Question'].str.lower()\n",
    "dataset['Answer'] = dataset['Answer'].str.lower()\n",
    "\n",
    "# Initialize TF-IDF Vectorizer\n",
    "vectorizer = TfidfVectorizer(stop_words='english')\n",
    "\n",
    "# Fit and transform the questions into a matrix\n",
    "X = vectorizer.fit_transform(dataset['Question'])\n",
    "\n",
    "# Function to detect language and translate to English if needed\n",
    "def detect_and_translate(query):\n",
    "    detected_language = detect(query)\n",
    "    print(f\"Detected Language: {detected_language}\")\n",
    "\n",
    "    if detected_language != 'en':\n",
    "        print(f\"Converting to English: {query}\")\n",
    "        translator = Translator()\n",
    "        translated_query = translator.translate(query, src=detected_language, dest='en').text\n",
    "        print(f\"Translated to English: {translated_query}\")\n",
    "        return translated_query, detected_language\n",
    "    else:\n",
    "        print(\"Query is already in English.\")\n",
    "        return query, detected_language\n",
    "\n",
    "# Function to get the best matching answer from the dataset\n",
    "def get_answer(query):\n",
    "    query_vector = vectorizer.transform([query.lower()])\n",
    "    cosine_sim = cosine_similarity(query_vector, X)\n",
    "    index = cosine_sim.argmax()\n",
    "    return dataset['Answer'][index]\n",
    "\n",
    "# Function to translate the answer back to the user's language\n",
    "def translate_back(answer, target_lang):\n",
    "    translator = Translator()\n",
    "    translated_answer = translator.translate(answer, dest=target_lang).text\n",
    "    return translated_answer\n",
    "\n",
    "# Main loop for chatbot interaction\n",
    "while True:\n",
    "    user_query = input(\"Enter your question (or type 'bye' to exit): \")\n",
    "    \n",
    "    if user_query.lower() == 'bye':\n",
    "        print(\"Goodbye!\")\n",
    "        break\n",
    "\n",
    "    # Step 1: Detect language and translate to English\n",
    "    translated_query, user_lang = detect_and_translate(user_query)\n",
    "    \n",
    "    # Step 2: Get the answer from the dataset\n",
    "    print(\"Getting answer from dataset...\")\n",
    "    answer = get_answer(translated_query)\n",
    "    print(f\"Answer in English: {answer}\")\n",
    "    \n",
    "    # Step 3: Translate the answer back to the user's language\n",
    "    print(f\"Translating answer back to {user_lang}...\")\n",
    "    final_answer = translate_back(answer, user_lang)\n",
    "    \n",
    "    # Step 4: Display the answer in the user's language\n",
    "    print(f\"Answer in {user_lang}: {final_answer}\")"
   ]
  },
  {
   "cell_type": "markdown",
   "metadata": {},
   "source": [
    "# PART 2"
   ]
  },
  {
   "cell_type": "markdown",
   "metadata": {},
   "source": [
    "# USING LLMS"
   ]
  },
  {
   "cell_type": "markdown",
   "metadata": {},
   "source": [
    "# **CHATBOT Using LLMS**"
   ]
  },
  {
   "cell_type": "markdown",
   "metadata": {},
   "source": [
    "# T5 Small"
   ]
  },
  {
   "cell_type": "code",
   "execution_count": 20,
   "metadata": {
    "execution": {
     "iopub.execute_input": "2025-04-26T18:41:35.664940Z",
     "iopub.status.busy": "2025-04-26T18:41:35.664508Z",
     "iopub.status.idle": "2025-04-26T18:43:13.993038Z",
     "shell.execute_reply": "2025-04-26T18:43:13.992346Z",
     "shell.execute_reply.started": "2025-04-26T18:41:35.664908Z"
    },
    "trusted": true
   },
   "outputs": [
    {
     "name": "stderr",
     "output_type": "stream",
     "text": [
      "2025-04-26 18:41:49.761012: E external/local_xla/xla/stream_executor/cuda/cuda_fft.cc:477] Unable to register cuFFT factory: Attempting to register factory for plugin cuFFT when one has already been registered\n",
      "WARNING: All log messages before absl::InitializeLog() is called are written to STDERR\n",
      "E0000 00:00:1745692910.087165      31 cuda_dnn.cc:8310] Unable to register cuDNN factory: Attempting to register factory for plugin cuDNN when one has already been registered\n",
      "E0000 00:00:1745692910.171041      31 cuda_blas.cc:1418] Unable to register cuBLAS factory: Attempting to register factory for plugin cuBLAS when one has already been registered\n"
     ]
    },
    {
     "data": {
      "application/vnd.jupyter.widget-view+json": {
       "model_id": "57db36af9e6248eba4184aa86efb1c29",
       "version_major": 2,
       "version_minor": 0
      },
      "text/plain": [
       "config.json:   0%|          | 0.00/1.21k [00:00<?, ?B/s]"
      ]
     },
     "metadata": {},
     "output_type": "display_data"
    },
    {
     "name": "stderr",
     "output_type": "stream",
     "text": [
      "Xet Storage is enabled for this repo, but the 'hf_xet' package is not installed. Falling back to regular HTTP download. For better performance, install the package with: `pip install huggingface_hub[hf_xet]` or `pip install hf_xet`\n"
     ]
    },
    {
     "data": {
      "application/vnd.jupyter.widget-view+json": {
       "model_id": "e7b0954776234e44bfab48a9d4f0f9f9",
       "version_major": 2,
       "version_minor": 0
      },
      "text/plain": [
       "model.safetensors:   0%|          | 0.00/242M [00:00<?, ?B/s]"
      ]
     },
     "metadata": {},
     "output_type": "display_data"
    },
    {
     "data": {
      "application/vnd.jupyter.widget-view+json": {
       "model_id": "24b27fb8b02c4f0abe48f2a6f2944715",
       "version_major": 2,
       "version_minor": 0
      },
      "text/plain": [
       "generation_config.json:   0%|          | 0.00/147 [00:00<?, ?B/s]"
      ]
     },
     "metadata": {},
     "output_type": "display_data"
    },
    {
     "data": {
      "application/vnd.jupyter.widget-view+json": {
       "model_id": "e2cce20622184c579a9904032d943a92",
       "version_major": 2,
       "version_minor": 0
      },
      "text/plain": [
       "tokenizer_config.json:   0%|          | 0.00/2.32k [00:00<?, ?B/s]"
      ]
     },
     "metadata": {},
     "output_type": "display_data"
    },
    {
     "data": {
      "application/vnd.jupyter.widget-view+json": {
       "model_id": "d9a10726b9344309950ac7b2d8250103",
       "version_major": 2,
       "version_minor": 0
      },
      "text/plain": [
       "spiece.model:   0%|          | 0.00/792k [00:00<?, ?B/s]"
      ]
     },
     "metadata": {},
     "output_type": "display_data"
    },
    {
     "data": {
      "application/vnd.jupyter.widget-view+json": {
       "model_id": "d8fb0acb07f34cadb298883d27dd93b1",
       "version_major": 2,
       "version_minor": 0
      },
      "text/plain": [
       "tokenizer.json:   0%|          | 0.00/1.39M [00:00<?, ?B/s]"
      ]
     },
     "metadata": {},
     "output_type": "display_data"
    },
    {
     "name": "stderr",
     "output_type": "stream",
     "text": [
      "Device set to use cuda:0\n"
     ]
    },
    {
     "data": {
      "application/vnd.jupyter.widget-view+json": {
       "model_id": "d69a5a8fada1477f962e58cc89823536",
       "version_major": 2,
       "version_minor": 0
      },
      "text/plain": [
       "config.json:   0%|          | 0.00/1.42k [00:00<?, ?B/s]"
      ]
     },
     "metadata": {},
     "output_type": "display_data"
    },
    {
     "data": {
      "application/vnd.jupyter.widget-view+json": {
       "model_id": "d9f8020172e84893ae6e02dd3bf197fa",
       "version_major": 2,
       "version_minor": 0
      },
      "text/plain": [
       "pytorch_model.bin:   0%|          | 0.00/301M [00:00<?, ?B/s]"
      ]
     },
     "metadata": {},
     "output_type": "display_data"
    },
    {
     "data": {
      "application/vnd.jupyter.widget-view+json": {
       "model_id": "9cd7e49f7d9b4a088614206dd1a57089",
       "version_major": 2,
       "version_minor": 0
      },
      "text/plain": [
       "generation_config.json:   0%|          | 0.00/293 [00:00<?, ?B/s]"
      ]
     },
     "metadata": {},
     "output_type": "display_data"
    },
    {
     "data": {
      "application/vnd.jupyter.widget-view+json": {
       "model_id": "e6ccb33ff55b4e27bea5c25932552b58",
       "version_major": 2,
       "version_minor": 0
      },
      "text/plain": [
       "config.json:   0%|          | 0.00/1.42k [00:00<?, ?B/s]"
      ]
     },
     "metadata": {},
     "output_type": "display_data"
    },
    {
     "data": {
      "application/vnd.jupyter.widget-view+json": {
       "model_id": "eda87b622a7249689677eb57385a4f49",
       "version_major": 2,
       "version_minor": 0
      },
      "text/plain": [
       "model.safetensors:   0%|          | 0.00/301M [00:00<?, ?B/s]"
      ]
     },
     "metadata": {},
     "output_type": "display_data"
    },
    {
     "name": "stderr",
     "output_type": "stream",
     "text": [
      "Xet Storage is enabled for this repo, but the 'hf_xet' package is not installed. Falling back to regular HTTP download. For better performance, install the package with: `pip install huggingface_hub[hf_xet]` or `pip install hf_xet`\n"
     ]
    },
    {
     "data": {
      "application/vnd.jupyter.widget-view+json": {
       "model_id": "cb562e6b96e84af4aee1c04953a21c00",
       "version_major": 2,
       "version_minor": 0
      },
      "text/plain": [
       "pytorch_model.bin:   0%|          | 0.00/301M [00:00<?, ?B/s]"
      ]
     },
     "metadata": {},
     "output_type": "display_data"
    },
    {
     "name": "stderr",
     "output_type": "stream",
     "text": [
      "Xet Storage is enabled for this repo, but the 'hf_xet' package is not installed. Falling back to regular HTTP download. For better performance, install the package with: `pip install huggingface_hub[hf_xet]` or `pip install hf_xet`\n"
     ]
    },
    {
     "data": {
      "application/vnd.jupyter.widget-view+json": {
       "model_id": "216c6c9da7464bbcb7bd9d578191ddb5",
       "version_major": 2,
       "version_minor": 0
      },
      "text/plain": [
       "generation_config.json:   0%|          | 0.00/293 [00:00<?, ?B/s]"
      ]
     },
     "metadata": {},
     "output_type": "display_data"
    },
    {
     "data": {
      "application/vnd.jupyter.widget-view+json": {
       "model_id": "3e5d30c4c4cf41e0aef7f4672cbfe817",
       "version_major": 2,
       "version_minor": 0
      },
      "text/plain": [
       "model.safetensors:   0%|          | 0.00/301M [00:00<?, ?B/s]"
      ]
     },
     "metadata": {},
     "output_type": "display_data"
    },
    {
     "data": {
      "application/vnd.jupyter.widget-view+json": {
       "model_id": "5fbf3a945d2e4e239f869894a2f70db8",
       "version_major": 2,
       "version_minor": 0
      },
      "text/plain": [
       "tokenizer_config.json:   0%|          | 0.00/42.0 [00:00<?, ?B/s]"
      ]
     },
     "metadata": {},
     "output_type": "display_data"
    },
    {
     "data": {
      "application/vnd.jupyter.widget-view+json": {
       "model_id": "7d8ef8bae6d64ebfa6dda37ded78d04e",
       "version_major": 2,
       "version_minor": 0
      },
      "text/plain": [
       "source.spm:   0%|          | 0.00/778k [00:00<?, ?B/s]"
      ]
     },
     "metadata": {},
     "output_type": "display_data"
    },
    {
     "data": {
      "application/vnd.jupyter.widget-view+json": {
       "model_id": "1401699a51cb4d549773cc367adc1011",
       "version_major": 2,
       "version_minor": 0
      },
      "text/plain": [
       "target.spm:   0%|          | 0.00/802k [00:00<?, ?B/s]"
      ]
     },
     "metadata": {},
     "output_type": "display_data"
    },
    {
     "data": {
      "application/vnd.jupyter.widget-view+json": {
       "model_id": "88fc694ffd22468b9bfc421307b3eac8",
       "version_major": 2,
       "version_minor": 0
      },
      "text/plain": [
       "vocab.json:   0%|          | 0.00/1.34M [00:00<?, ?B/s]"
      ]
     },
     "metadata": {},
     "output_type": "display_data"
    },
    {
     "name": "stderr",
     "output_type": "stream",
     "text": [
      "/usr/local/lib/python3.11/dist-packages/transformers/models/marian/tokenization_marian.py:175: UserWarning: Recommended: pip install sacremoses.\n",
      "  warnings.warn(\"Recommended: pip install sacremoses.\")\n"
     ]
    },
    {
     "data": {
      "application/vnd.jupyter.widget-view+json": {
       "model_id": "b54308827363405583a4e9f82ba99e69",
       "version_major": 2,
       "version_minor": 0
      },
      "text/plain": [
       "tokenizer_config.json:   0%|          | 0.00/42.0 [00:00<?, ?B/s]"
      ]
     },
     "metadata": {},
     "output_type": "display_data"
    },
    {
     "data": {
      "application/vnd.jupyter.widget-view+json": {
       "model_id": "f6cdf7a9695148d59b0e59b453309156",
       "version_major": 2,
       "version_minor": 0
      },
      "text/plain": [
       "source.spm:   0%|          | 0.00/802k [00:00<?, ?B/s]"
      ]
     },
     "metadata": {},
     "output_type": "display_data"
    },
    {
     "data": {
      "application/vnd.jupyter.widget-view+json": {
       "model_id": "5195220b9be34c6fb6459a1c0e92f19d",
       "version_major": 2,
       "version_minor": 0
      },
      "text/plain": [
       "target.spm:   0%|          | 0.00/778k [00:00<?, ?B/s]"
      ]
     },
     "metadata": {},
     "output_type": "display_data"
    },
    {
     "data": {
      "application/vnd.jupyter.widget-view+json": {
       "model_id": "d2e5cef196884813be9469581074bae0",
       "version_major": 2,
       "version_minor": 0
      },
      "text/plain": [
       "vocab.json:   0%|          | 0.00/1.34M [00:00<?, ?B/s]"
      ]
     },
     "metadata": {},
     "output_type": "display_data"
    },
    {
     "name": "stdout",
     "output_type": "stream",
     "text": [
      "Enter your query (or type 'exit' to stop):  Comment gérer les ravageurs dans les cultures?\n"
     ]
    },
    {
     "name": "stdout",
     "output_type": "stream",
     "text": [
      "\n",
      "User query: Comment gérer les ravageurs dans les cultures?\n",
      "Original query: Comment gérer les ravageurs dans les cultures?\n",
      "Detected language: fr\n",
      "Detected Language: fr\n",
      "Translating query to English...\n",
      "Translated to English: How to manage pests in crops?\n",
      "Generated response in English: Wie kann man die Schädlinge in den Pflanzen bekämpfen?\n",
      "Translating back to fr...\n",
      "Final response in original language: L'homme de Wie Kann meurt Schädlinge dans le den Pflanzen bekämpfen ?\n",
      "\n"
     ]
    },
    {
     "name": "stdout",
     "output_type": "stream",
     "text": [
      "Enter your query (or type 'exit' to stop):  exit\n"
     ]
    },
    {
     "name": "stdout",
     "output_type": "stream",
     "text": [
      "Exiting chatbot. Goodbye!\n"
     ]
    }
   ],
   "source": [
    "from langdetect import detect\n",
    "from transformers import pipeline, MarianMTModel, MarianTokenizer\n",
    "\n",
    "# Load pre-trained model for text generation (T5 or similar)\n",
    "generator = pipeline('text2text-generation', model='t5-small')\n",
    "\n",
    "# Load translation models (English <-> French for example, you can extend for more languages)\n",
    "translation_en_to_fr = MarianMTModel.from_pretrained('Helsinki-NLP/opus-mt-en-fr')\n",
    "translation_fr_to_en = MarianMTModel.from_pretrained('Helsinki-NLP/opus-mt-fr-en')\n",
    "\n",
    "# Load tokenizers for the translation models\n",
    "en_tokenizer = MarianTokenizer.from_pretrained('Helsinki-NLP/opus-mt-en-fr')\n",
    "fr_tokenizer = MarianTokenizer.from_pretrained('Helsinki-NLP/opus-mt-fr-en')\n",
    "\n",
    "# Function to translate text\n",
    "def translate_text(text, src_lang, tgt_lang):\n",
    "    model = translation_en_to_fr if src_lang == 'en' else translation_fr_to_en\n",
    "    tokenizer = en_tokenizer if src_lang == 'en' else fr_tokenizer\n",
    "\n",
    "    translated = model.generate(**tokenizer(text, return_tensors=\"pt\", padding=True))\n",
    "    return tokenizer.decode(translated[0], skip_special_tokens=True)\n",
    "\n",
    "# Function to detect the language of the query and translate to English if needed\n",
    "def translate_to_english(query):\n",
    "    detected_language = detect(query)\n",
    "    print(f\"Detected Language: {detected_language}\")\n",
    "    \n",
    "    if detected_language != 'en':\n",
    "        print(f\"Translating query to English...\")\n",
    "        return translate_text(query, detected_language, 'en')\n",
    "    else:\n",
    "        return query\n",
    "\n",
    "# Function to translate the answer back to the original language\n",
    "def translate_back_to_original(query, original_language):\n",
    "    print(f\"Translating back to {original_language}...\")\n",
    "    if original_language != 'en':\n",
    "        return translate_text(query, 'en', original_language)\n",
    "    else:\n",
    "        return query\n",
    "\n",
    "# Function to generate the answer using T5 or another model\n",
    "def generate_answer(query):\n",
    "    response = generator(query, max_length=50, num_return_sequences=1)\n",
    "    return response[0]['generated_text']\n",
    "\n",
    "# Main function to handle the conversation flow\n",
    "def chatbot():\n",
    "    while True:\n",
    "        # Taking live input from the user\n",
    "        query = input(\"Enter your query (or type 'exit' to stop): \")\n",
    "        \n",
    "        if query.lower() == 'exit':\n",
    "            print(\"Exiting chatbot. Goodbye!\")\n",
    "            break\n",
    "\n",
    "        print(f\"\\nUser query: {query}\")\n",
    "        \n",
    "        # Step 1: Detect language and translate to English if necessary\n",
    "        original_language = detect(query)\n",
    "        print(f\"Original query: {query}\")\n",
    "        print(f\"Detected language: {original_language}\")\n",
    "        \n",
    "        translated_query = translate_to_english(query)\n",
    "        print(f\"Translated to English: {translated_query}\")\n",
    "        \n",
    "        # Step 2: Generate response using Hugging Face model (T5)\n",
    "        response = generate_answer(translated_query)\n",
    "        print(f\"Generated response in English: {response}\")\n",
    "        \n",
    "        # Step 3: Translate the response back to the original language if needed\n",
    "        final_response = translate_back_to_original(response, original_language)\n",
    "        print(f\"Final response in original language: {final_response}\\n\")\n",
    "        \n",
    "# Run the chatbot\n",
    "chatbot()"
   ]
  },
  {
   "cell_type": "markdown",
   "metadata": {},
   "source": [
    "# DistilBERT"
   ]
  },
  {
   "cell_type": "code",
   "execution_count": 22,
   "metadata": {
    "execution": {
     "iopub.execute_input": "2025-04-26T18:45:58.767447Z",
     "iopub.status.busy": "2025-04-26T18:45:58.766781Z",
     "iopub.status.idle": "2025-04-26T18:46:02.382164Z",
     "shell.execute_reply": "2025-04-26T18:46:02.381354Z",
     "shell.execute_reply.started": "2025-04-26T18:45:58.767423Z"
    },
    "trusted": true
   },
   "outputs": [
    {
     "data": {
      "application/vnd.jupyter.widget-view+json": {
       "model_id": "f2dc2a2e10ee494cab1a42a0d899a63f",
       "version_major": 2,
       "version_minor": 0
      },
      "text/plain": [
       "config.json:   0%|          | 0.00/451 [00:00<?, ?B/s]"
      ]
     },
     "metadata": {},
     "output_type": "display_data"
    },
    {
     "name": "stderr",
     "output_type": "stream",
     "text": [
      "Xet Storage is enabled for this repo, but the 'hf_xet' package is not installed. Falling back to regular HTTP download. For better performance, install the package with: `pip install huggingface_hub[hf_xet]` or `pip install hf_xet`\n"
     ]
    },
    {
     "data": {
      "application/vnd.jupyter.widget-view+json": {
       "model_id": "7ef3ae2e244348a686bd56d0dc944eba",
       "version_major": 2,
       "version_minor": 0
      },
      "text/plain": [
       "model.safetensors:   0%|          | 0.00/265M [00:00<?, ?B/s]"
      ]
     },
     "metadata": {},
     "output_type": "display_data"
    },
    {
     "data": {
      "application/vnd.jupyter.widget-view+json": {
       "model_id": "ef2f202d2efd4c518ad255afefd51c0f",
       "version_major": 2,
       "version_minor": 0
      },
      "text/plain": [
       "tokenizer_config.json:   0%|          | 0.00/48.0 [00:00<?, ?B/s]"
      ]
     },
     "metadata": {},
     "output_type": "display_data"
    },
    {
     "data": {
      "application/vnd.jupyter.widget-view+json": {
       "model_id": "eac2c076b2b34f0c805d2091f5a69fd0",
       "version_major": 2,
       "version_minor": 0
      },
      "text/plain": [
       "config.json:   0%|          | 0.00/483 [00:00<?, ?B/s]"
      ]
     },
     "metadata": {},
     "output_type": "display_data"
    },
    {
     "data": {
      "application/vnd.jupyter.widget-view+json": {
       "model_id": "6f46966990054fb4aac3ab5b9451cb43",
       "version_major": 2,
       "version_minor": 0
      },
      "text/plain": [
       "vocab.txt:   0%|          | 0.00/232k [00:00<?, ?B/s]"
      ]
     },
     "metadata": {},
     "output_type": "display_data"
    },
    {
     "data": {
      "application/vnd.jupyter.widget-view+json": {
       "model_id": "084fcf84009b43f690de824f64dae128",
       "version_major": 2,
       "version_minor": 0
      },
      "text/plain": [
       "tokenizer.json:   0%|          | 0.00/466k [00:00<?, ?B/s]"
      ]
     },
     "metadata": {},
     "output_type": "display_data"
    },
    {
     "name": "stderr",
     "output_type": "stream",
     "text": [
      "Device set to use cuda:0\n"
     ]
    },
    {
     "name": "stdout",
     "output_type": "stream",
     "text": [
      "Detected language: fr\n",
      "Translating to English...\n",
      "Translated query to English: How to manage pests in crops?\n",
      "Generating answer from model...\n",
      "Generated answer in English: using organic methods, biological control, and chemical pesticides\n",
      "Translating answer back to fr...\n",
      "Final answer in original language: en utilisant des méthodes organiques, un contrôle biologique et des pesticides chimiques\n",
      "Final Response: en utilisant des méthodes organiques, un contrôle biologique et des pesticides chimiques\n"
     ]
    }
   ],
   "source": [
    "from googletrans import Translator\n",
    "from langdetect import detect\n",
    "from transformers import pipeline\n",
    "\n",
    "# Initialize the models\n",
    "translator = Translator()\n",
    "\n",
    "# Load a pre-trained Question Answering model and tokenizer from Hugging Face\n",
    "qa_pipeline = pipeline(\"question-answering\", model=\"distilbert-base-uncased-distilled-squad\", tokenizer=\"distilbert-base-uncased\")\n",
    "\n",
    "# Function to detect language and translate to English if needed\n",
    "def detect_and_translate(query):\n",
    "    detected_language = detect(query)\n",
    "    print(f\"Detected language: {detected_language}\")\n",
    "    \n",
    "    # If the query is not in English, translate to English\n",
    "    if detected_language != 'en':\n",
    "        print(\"Translating to English...\")\n",
    "        translated_query = translator.translate(query, src=detected_language, dest='en').text\n",
    "        print(f\"Translated query to English: {translated_query}\")\n",
    "    else:\n",
    "        translated_query = query\n",
    "        print(f\"Query is already in English: {translated_query}\")\n",
    "    \n",
    "    return translated_query, detected_language\n",
    "\n",
    "# Function to generate answer using the Question-Answering model\n",
    "def generate_answer(query):\n",
    "    context = \"Crop disease management includes using organic methods, biological control, and chemical pesticides.\"\n",
    "    result = qa_pipeline(question=query, context=context)\n",
    "    return result['answer']\n",
    "\n",
    "# Function to translate the answer back to the original language if needed\n",
    "def translate_back(answer, target_lang):\n",
    "    if target_lang != 'en':\n",
    "        print(f\"Translating answer back to {target_lang}...\")\n",
    "        translated_answer = translator.translate(answer, src='en', dest=target_lang).text\n",
    "        return translated_answer\n",
    "    else:\n",
    "        return answer\n",
    "\n",
    "# Main function to process queries\n",
    "def process_query(query):\n",
    "    # Detect language and translate to English if needed\n",
    "    translated_query, detected_language = detect_and_translate(query)\n",
    "    \n",
    "    # Generate answer in English\n",
    "    print(\"Generating answer from model...\")\n",
    "    generated_answer = generate_answer(translated_query)\n",
    "    print(f\"Generated answer in English: {generated_answer}\")\n",
    "    \n",
    "    # Translate answer back to the original language if needed\n",
    "    final_answer = translate_back(generated_answer, detected_language)\n",
    "    \n",
    "    print(f\"Final answer in original language: {final_answer}\")\n",
    "    return final_answer\n",
    "\n",
    "# Example of how to use the chatbot\n",
    "query = \"Comment gérer les ravageurs dans les cultures?\"\n",
    "final_response = process_query(query)\n",
    "print(f\"Final Response: {final_response}\")"
   ]
  },
  {
   "cell_type": "code",
   "execution_count": 23,
   "metadata": {
    "execution": {
     "iopub.execute_input": "2025-04-26T18:47:14.454870Z",
     "iopub.status.busy": "2025-04-26T18:47:14.454027Z",
     "iopub.status.idle": "2025-04-26T18:49:46.139026Z",
     "shell.execute_reply": "2025-04-26T18:49:46.138371Z",
     "shell.execute_reply.started": "2025-04-26T18:47:14.454843Z"
    },
    "trusted": true
   },
   "outputs": [
    {
     "name": "stderr",
     "output_type": "stream",
     "text": [
      "Device set to use cuda:0\n"
     ]
    },
    {
     "name": "stdout",
     "output_type": "stream",
     "text": [
      "Chatbot is ready. Enter 'exit' to stop.\n"
     ]
    },
    {
     "name": "stdout",
     "output_type": "stream",
     "text": [
      "Enter your query:  How to improve soil health?\n"
     ]
    },
    {
     "name": "stdout",
     "output_type": "stream",
     "text": [
      "Detected language: en\n",
      "Query is already in English: How to improve soil health?\n",
      "Generating answer from model...\n",
      "Generated answer in English: using organic methods, biological control, and chemical pesticides\n",
      "Final answer in original language: using organic methods, biological control, and chemical pesticides\n",
      "Chatbot's Response: using organic methods, biological control, and chemical pesticides\n",
      "\n"
     ]
    },
    {
     "name": "stdout",
     "output_type": "stream",
     "text": [
      "Enter your query:  Comment gérer les ravageurs dans les cultures?\n"
     ]
    },
    {
     "name": "stdout",
     "output_type": "stream",
     "text": [
      "Detected language: fr\n",
      "Translating to English...\n",
      "Translated query to English: How to manage pests in crops?\n",
      "Generating answer from model...\n",
      "Generated answer in English: using organic methods, biological control, and chemical pesticides\n",
      "Translating answer back to fr...\n",
      "Final answer in original language: en utilisant des méthodes organiques, un contrôle biologique et des pesticides chimiques\n",
      "Chatbot's Response: en utilisant des méthodes organiques, un contrôle biologique et des pesticides chimiques\n",
      "\n"
     ]
    },
    {
     "name": "stdout",
     "output_type": "stream",
     "text": [
      "Enter your query:  పంటలలో సూక్ష్మజీవుల నియంత్రణ ఎలా చేయాలి?\n"
     ]
    },
    {
     "name": "stdout",
     "output_type": "stream",
     "text": [
      "Detected language: te\n",
      "Translating to English...\n",
      "Translated query to English: How to control microorganisms in crops?\n",
      "Generating answer from model...\n",
      "Generated answer in English: biological control, and chemical pesticides\n",
      "Translating answer back to te...\n",
      "Final answer in original language: జీవసంబంధమైన పురుగుమందులు\n",
      "Chatbot's Response: జీవసంబంధమైన పురుగుమందులు\n",
      "\n"
     ]
    },
    {
     "name": "stdout",
     "output_type": "stream",
     "text": [
      "Enter your query:  ਕਿਸਾਨਾਂ ਨੂੰ ਕਿਸ ਤਰ੍ਹਾਂ ਦੇਖਭਾਲ ਅਤੇ ਰੋਗ ਪ੍ਰਬੰਧਨ ਦੀ ਲੋੜ ਹੈ?\n"
     ]
    },
    {
     "name": "stdout",
     "output_type": "stream",
     "text": [
      "Detected language: pa\n",
      "Translating to English...\n",
      "Translated query to English: How farmers need care and disease management?\n",
      "Generating answer from model...\n",
      "Generated answer in English: using organic methods, biological control, and chemical pesticides\n",
      "Translating answer back to pa...\n",
      "Final answer in original language: ਜੈਵਿਕ ਵਿਧੀਆਂ, ਜੀਵ-ਵਿਗਿਆਨਕ ਨਿਯੰਤਰਣ, ਅਤੇ ਰਸਾਇਣਕ ਕੀਟਨਾਸ਼ਕਾਂ ਦੀ ਵਰਤੋਂ ਕਰਨਾ\n",
      "Chatbot's Response: ਜੈਵਿਕ ਵਿਧੀਆਂ, ਜੀਵ-ਵਿਗਿਆਨਕ ਨਿਯੰਤਰਣ, ਅਤੇ ਰਸਾਇਣਕ ਕੀਟਨਾਸ਼ਕਾਂ ਦੀ ਵਰਤੋਂ ਕਰਨਾ\n",
      "\n"
     ]
    },
    {
     "name": "stdout",
     "output_type": "stream",
     "text": [
      "Enter your query:  फसलों में कीटों का नियंत्रण कैसे करें?\n"
     ]
    },
    {
     "name": "stdout",
     "output_type": "stream",
     "text": [
      "Detected language: hi\n",
      "Translating to English...\n",
      "Translated query to English: How to control pests in crops?\n",
      "Generating answer from model...\n",
      "Generated answer in English: using organic methods, biological control, and chemical pesticides\n",
      "Translating answer back to hi...\n",
      "Final answer in original language: कार्बनिक तरीकों, जैविक नियंत्रण और रासायनिक कीटनाशकों का उपयोग करना\n",
      "Chatbot's Response: कार्बनिक तरीकों, जैविक नियंत्रण और रासायनिक कीटनाशकों का उपयोग करना\n",
      "\n"
     ]
    },
    {
     "name": "stdout",
     "output_type": "stream",
     "text": [
      "Enter your query:  exit\n"
     ]
    },
    {
     "name": "stdout",
     "output_type": "stream",
     "text": [
      "Exiting chatbot.\n"
     ]
    }
   ],
   "source": [
    "from googletrans import Translator\n",
    "from langdetect import detect\n",
    "from transformers import pipeline\n",
    "\n",
    "# Initialize the models\n",
    "translator = Translator()\n",
    "\n",
    "# Load a pre-trained Question Answering model and tokenizer from Hugging Face\n",
    "qa_pipeline = pipeline(\"question-answering\", model=\"distilbert-base-uncased-distilled-squad\", tokenizer=\"distilbert-base-uncased\")\n",
    "\n",
    "# Function to detect language and translate to English if needed\n",
    "def detect_and_translate(query):\n",
    "    detected_language = detect(query)\n",
    "    print(f\"Detected language: {detected_language}\")\n",
    "    \n",
    "    # If the query is not in English, translate to English\n",
    "    if detected_language != 'en':\n",
    "        print(\"Translating to English...\")\n",
    "        translated_query = translator.translate(query, src=detected_language, dest='en').text\n",
    "        print(f\"Translated query to English: {translated_query}\")\n",
    "    else:\n",
    "        translated_query = query\n",
    "        print(f\"Query is already in English: {translated_query}\")\n",
    "    \n",
    "    return translated_query, detected_language\n",
    "\n",
    "# Function to generate an answer using the Question-Answering model\n",
    "def generate_answer(query):\n",
    "    # Provide a general context for crop diseases (replace with domain-specific info as needed)\n",
    "    context = \"Crop disease management includes using organic methods, biological control, and chemical pesticides.\"\n",
    "    result = qa_pipeline(question=query, context=context)\n",
    "    return result['answer']\n",
    "\n",
    "# Function to translate the answer back to the original language if needed\n",
    "def translate_back(answer, target_lang):\n",
    "    if target_lang != 'en':\n",
    "        print(f\"Translating answer back to {target_lang}...\")\n",
    "        translated_answer = translator.translate(answer, src='en', dest=target_lang).text\n",
    "        return translated_answer\n",
    "    else:\n",
    "        return answer\n",
    "\n",
    "# Main function to process queries\n",
    "def process_query(query):\n",
    "    # Detect language and translate to English if needed\n",
    "    translated_query, detected_language = detect_and_translate(query)\n",
    "    \n",
    "    # Generate answer in English\n",
    "    print(\"Generating answer from model...\")\n",
    "    generated_answer = generate_answer(translated_query)\n",
    "    print(f\"Generated answer in English: {generated_answer}\")\n",
    "    \n",
    "    # Translate answer back to the original language if needed\n",
    "    final_answer = translate_back(generated_answer, detected_language)\n",
    "    \n",
    "    print(f\"Final answer in original language: {final_answer}\")\n",
    "    return final_answer\n",
    "\n",
    "# Function to simulate chatbot interaction\n",
    "def chatbot():\n",
    "    print(\"Chatbot is ready. Enter 'exit' to stop.\")\n",
    "    \n",
    "    while True:\n",
    "        # Taking input from user\n",
    "        query = input(\"Enter your query: \")\n",
    "        \n",
    "        if query.lower() == 'exit':\n",
    "            print(\"Exiting chatbot.\")\n",
    "            break\n",
    "        \n",
    "        # Process the query and get the answer\n",
    "        final_response = process_query(query)\n",
    "        print(f\"Chatbot's Response: {final_response}\\n\")\n",
    "\n",
    "# Start chatbot\n",
    "chatbot()"
   ]
  },
  {
   "cell_type": "markdown",
   "metadata": {},
   "source": [
    "# Next Step is use llms and fine-tune it"
   ]
  },
  {
   "cell_type": "markdown",
   "metadata": {},
   "source": [
    "## Used BERT-SQuAD LLMS to answer multilingual FAQs about crop diseases"
   ]
  },
  {
   "cell_type": "code",
   "execution_count": 2,
   "metadata": {
    "execution": {
     "iopub.execute_input": "2025-05-01T12:55:16.916124Z",
     "iopub.status.busy": "2025-05-01T12:55:16.915958Z",
     "iopub.status.idle": "2025-05-01T12:55:20.004314Z",
     "shell.execute_reply": "2025-05-01T12:55:20.003537Z",
     "shell.execute_reply.started": "2025-05-01T12:55:16.916105Z"
    },
    "trusted": true
   },
   "outputs": [
    {
     "name": "stdout",
     "output_type": "stream",
     "text": [
      "Requirement already satisfied: transformers in /usr/local/lib/python3.11/dist-packages (4.51.1)\n",
      "Requirement already satisfied: googletrans==4.0.0-rc1 in /usr/local/lib/python3.11/dist-packages (4.0.0rc1)\n",
      "Requirement already satisfied: langdetect in /usr/local/lib/python3.11/dist-packages (1.0.9)\n",
      "Requirement already satisfied: httpx==0.13.3 in /usr/local/lib/python3.11/dist-packages (from googletrans==4.0.0-rc1) (0.13.3)\n",
      "Requirement already satisfied: certifi in /usr/local/lib/python3.11/dist-packages (from httpx==0.13.3->googletrans==4.0.0-rc1) (2025.1.31)\n",
      "Requirement already satisfied: hstspreload in /usr/local/lib/python3.11/dist-packages (from httpx==0.13.3->googletrans==4.0.0-rc1) (2025.1.1)\n",
      "Requirement already satisfied: sniffio in /usr/local/lib/python3.11/dist-packages (from httpx==0.13.3->googletrans==4.0.0-rc1) (1.3.1)\n",
      "Requirement already satisfied: chardet==3.* in /usr/local/lib/python3.11/dist-packages (from httpx==0.13.3->googletrans==4.0.0-rc1) (3.0.4)\n",
      "Requirement already satisfied: idna==2.* in /usr/local/lib/python3.11/dist-packages (from httpx==0.13.3->googletrans==4.0.0-rc1) (2.10)\n",
      "Requirement already satisfied: rfc3986<2,>=1.3 in /usr/local/lib/python3.11/dist-packages (from httpx==0.13.3->googletrans==4.0.0-rc1) (1.5.0)\n",
      "Requirement already satisfied: httpcore==0.9.* in /usr/local/lib/python3.11/dist-packages (from httpx==0.13.3->googletrans==4.0.0-rc1) (0.9.1)\n",
      "Requirement already satisfied: h11<0.10,>=0.8 in /usr/local/lib/python3.11/dist-packages (from httpcore==0.9.*->httpx==0.13.3->googletrans==4.0.0-rc1) (0.9.0)\n",
      "Requirement already satisfied: h2==3.* in /usr/local/lib/python3.11/dist-packages (from httpcore==0.9.*->httpx==0.13.3->googletrans==4.0.0-rc1) (3.2.0)\n",
      "Requirement already satisfied: hyperframe<6,>=5.2.0 in /usr/local/lib/python3.11/dist-packages (from h2==3.*->httpcore==0.9.*->httpx==0.13.3->googletrans==4.0.0-rc1) (5.2.0)\n",
      "Requirement already satisfied: hpack<4,>=3.0 in /usr/local/lib/python3.11/dist-packages (from h2==3.*->httpcore==0.9.*->httpx==0.13.3->googletrans==4.0.0-rc1) (3.0.0)\n",
      "Requirement already satisfied: filelock in /usr/local/lib/python3.11/dist-packages (from transformers) (3.18.0)\n",
      "Requirement already satisfied: huggingface-hub<1.0,>=0.30.0 in /usr/local/lib/python3.11/dist-packages (from transformers) (0.30.2)\n",
      "Requirement already satisfied: numpy>=1.17 in /usr/local/lib/python3.11/dist-packages (from transformers) (1.26.4)\n",
      "Requirement already satisfied: packaging>=20.0 in /usr/local/lib/python3.11/dist-packages (from transformers) (24.2)\n",
      "Requirement already satisfied: pyyaml>=5.1 in /usr/local/lib/python3.11/dist-packages (from transformers) (6.0.2)\n",
      "Requirement already satisfied: regex!=2019.12.17 in /usr/local/lib/python3.11/dist-packages (from transformers) (2024.11.6)\n",
      "Requirement already satisfied: requests in /usr/local/lib/python3.11/dist-packages (from transformers) (2.32.3)\n",
      "Requirement already satisfied: tokenizers<0.22,>=0.21 in /usr/local/lib/python3.11/dist-packages (from transformers) (0.21.0)\n",
      "Requirement already satisfied: safetensors>=0.4.3 in /usr/local/lib/python3.11/dist-packages (from transformers) (0.5.2)\n",
      "Requirement already satisfied: tqdm>=4.27 in /usr/local/lib/python3.11/dist-packages (from transformers) (4.67.1)\n",
      "Requirement already satisfied: six in /usr/local/lib/python3.11/dist-packages (from langdetect) (1.17.0)\n",
      "Requirement already satisfied: fsspec>=2023.5.0 in /usr/local/lib/python3.11/dist-packages (from huggingface-hub<1.0,>=0.30.0->transformers) (2025.3.2)\n",
      "Requirement already satisfied: typing-extensions>=3.7.4.3 in /usr/local/lib/python3.11/dist-packages (from huggingface-hub<1.0,>=0.30.0->transformers) (4.13.1)\n",
      "Requirement already satisfied: mkl_fft in /usr/local/lib/python3.11/dist-packages (from numpy>=1.17->transformers) (1.3.8)\n",
      "Requirement already satisfied: mkl_random in /usr/local/lib/python3.11/dist-packages (from numpy>=1.17->transformers) (1.2.4)\n",
      "Requirement already satisfied: mkl_umath in /usr/local/lib/python3.11/dist-packages (from numpy>=1.17->transformers) (0.1.1)\n",
      "Requirement already satisfied: mkl in /usr/local/lib/python3.11/dist-packages (from numpy>=1.17->transformers) (2025.1.0)\n",
      "Requirement already satisfied: tbb4py in /usr/local/lib/python3.11/dist-packages (from numpy>=1.17->transformers) (2022.1.0)\n",
      "Requirement already satisfied: mkl-service in /usr/local/lib/python3.11/dist-packages (from numpy>=1.17->transformers) (2.4.1)\n",
      "Requirement already satisfied: charset-normalizer<4,>=2 in /usr/local/lib/python3.11/dist-packages (from requests->transformers) (3.4.1)\n",
      "Requirement already satisfied: urllib3<3,>=1.21.1 in /usr/local/lib/python3.11/dist-packages (from requests->transformers) (2.3.0)\n",
      "Requirement already satisfied: intel-openmp<2026,>=2024 in /usr/local/lib/python3.11/dist-packages (from mkl->numpy>=1.17->transformers) (2024.2.0)\n",
      "Requirement already satisfied: tbb==2022.* in /usr/local/lib/python3.11/dist-packages (from mkl->numpy>=1.17->transformers) (2022.1.0)\n",
      "Requirement already satisfied: tcmlib==1.* in /usr/local/lib/python3.11/dist-packages (from tbb==2022.*->mkl->numpy>=1.17->transformers) (1.2.0)\n",
      "Requirement already satisfied: intel-cmplr-lib-rt in /usr/local/lib/python3.11/dist-packages (from mkl_umath->numpy>=1.17->transformers) (2024.2.0)\n",
      "Requirement already satisfied: intel-cmplr-lib-ur==2024.2.0 in /usr/local/lib/python3.11/dist-packages (from intel-openmp<2026,>=2024->mkl->numpy>=1.17->transformers) (2024.2.0)\n",
      "Note: you may need to restart the kernel to use updated packages.\n"
     ]
    }
   ],
   "source": [
    "pip install transformers googletrans==4.0.0-rc1 langdetect"
   ]
  },
  {
   "cell_type": "code",
   "execution_count": 5,
   "metadata": {
    "execution": {
     "iopub.execute_input": "2025-05-01T12:57:40.961962Z",
     "iopub.status.busy": "2025-05-01T12:57:40.961074Z",
     "iopub.status.idle": "2025-05-01T12:58:35.146264Z",
     "shell.execute_reply": "2025-05-01T12:58:35.145670Z",
     "shell.execute_reply.started": "2025-05-01T12:57:40.961933Z"
    },
    "trusted": true
   },
   "outputs": [
    {
     "name": "stderr",
     "output_type": "stream",
     "text": [
      "Some weights of the model checkpoint at deepset/bert-base-cased-squad2 were not used when initializing BertForQuestionAnswering: ['bert.pooler.dense.bias', 'bert.pooler.dense.weight']\n",
      "- This IS expected if you are initializing BertForQuestionAnswering from the checkpoint of a model trained on another task or with another architecture (e.g. initializing a BertForSequenceClassification model from a BertForPreTraining model).\n",
      "- This IS NOT expected if you are initializing BertForQuestionAnswering from the checkpoint of a model that you expect to be exactly identical (initializing a BertForSequenceClassification model from a BertForSequenceClassification model).\n",
      "Device set to use cuda:0\n"
     ]
    },
    {
     "name": "stdout",
     "output_type": "stream",
     "text": [
      "\n",
      "Ask a crop disease question (or type 'exit'):  Apart from insecticide, what other method used to control bean weevils?\n"
     ]
    },
    {
     "name": "stdout",
     "output_type": "stream",
     "text": [
      "\n",
      "Query: Apart from insecticide, what other method used to control bean weevils?\n",
      "Answer: pyrethroids\n"
     ]
    },
    {
     "name": "stdout",
     "output_type": "stream",
     "text": [
      "\n",
      "Ask a crop disease question (or type 'exit'):  As a farmer, how can I know the qualities of a good fertilizer?\n"
     ]
    },
    {
     "name": "stdout",
     "output_type": "stream",
     "text": [
      "\n",
      "Query: As a farmer, how can I know the qualities of a good fertilizer?\n",
      "Answer: Nitrogen fertiliser\n"
     ]
    },
    {
     "name": "stdout",
     "output_type": "stream",
     "text": [
      "\n",
      "Ask a crop disease question (or type 'exit'):  As a farmer, how can I know the qualities of a good fertilizer?\n"
     ]
    },
    {
     "name": "stdout",
     "output_type": "stream",
     "text": [
      "\n",
      "Query: As a farmer, how can I know the qualities of a good fertilizer?\n",
      "Answer: Nitrogen fertiliser\n"
     ]
    },
    {
     "name": "stdout",
     "output_type": "stream",
     "text": [
      "\n",
      "Ask a crop disease question (or type 'exit'):  Can cassava seeds germinate if planted?\n"
     ]
    },
    {
     "name": "stdout",
     "output_type": "stream",
     "text": [
      "\n",
      "Query: Can cassava seeds germinate if planted?\n",
      "Answer: vigorous germination\n"
     ]
    },
    {
     "name": "stdout",
     "output_type": "stream",
     "text": [
      "\n",
      "Ask a crop disease question (or type 'exit'):  exit\n"
     ]
    }
   ],
   "source": [
    "import pandas as pd\n",
    "from transformers import AutoTokenizer, AutoModelForQuestionAnswering, pipeline\n",
    "from langdetect import detect\n",
    "from googletrans import Translator\n",
    "\n",
    "# Step 1: Load your dataset\n",
    "df = pd.read_csv(\"/kaggle/input/agronomic-question-and-answer-dataset/AgroQA Dataset.csv\")  \n",
    "\n",
    "# Step 2: Create a context (concatenate top N Q&A for now)\n",
    "context = \"\"\n",
    "for i in range(len(df)):\n",
    "    context += f\"Q: {df['Question'][i]}\\nA: {df['Answer'][i]}\\n\\n\"\n",
    "\n",
    "# Step 3: Load a general-purpose QA model (BERT-SQuAD)\n",
    "model_name = \"deepset/bert-base-cased-squad2\"  # You can try agriculturally fine-tuned if available\n",
    "tokenizer = AutoTokenizer.from_pretrained(model_name)\n",
    "model = AutoModelForQuestionAnswering.from_pretrained(model_name)\n",
    "\n",
    "qa_pipeline = pipeline(\"question-answering\", model=model, tokenizer=tokenizer)\n",
    "\n",
    "# Step 4: Multilingual support\n",
    "translator = Translator()\n",
    "\n",
    "def detect_and_translate(text):\n",
    "    lang = detect(text)\n",
    "    if lang != 'en':\n",
    "        translated = translator.translate(text, src=lang, dest='en').text\n",
    "    else:\n",
    "        translated = text\n",
    "    return translated, lang\n",
    "\n",
    "def translate_back(text, lang):\n",
    "    if lang != 'en':\n",
    "        return translator.translate(text, src='en', dest=lang).text\n",
    "    return text\n",
    "\n",
    "# Step 5: Get answer from LLM\n",
    "def get_llm_answer(user_query):\n",
    "    translated_query, original_lang = detect_and_translate(user_query)\n",
    "    \n",
    "    # QA model prediction\n",
    "    result = qa_pipeline(question=translated_query, context=context)\n",
    "    answer = result['answer']\n",
    "    \n",
    "    # Translate back\n",
    "    final_answer = translate_back(answer, original_lang)\n",
    "    \n",
    "    print(f\"\\nQuery: {user_query}\")\n",
    "    print(f\"Answer: {final_answer}\")\n",
    "\n",
    "# Example loop\n",
    "while True:\n",
    "    query = input(\"\\nAsk a crop disease question (or type 'exit'): \")\n",
    "    if query.lower() == 'exit':\n",
    "        break\n",
    "    get_llm_answer(query)"
   ]
  },
  {
   "cell_type": "markdown",
   "metadata": {},
   "source": [
    "## FINE-TUNE"
   ]
  },
  {
   "cell_type": "code",
   "execution_count": 6,
   "metadata": {
    "execution": {
     "iopub.execute_input": "2025-05-01T13:14:18.813246Z",
     "iopub.status.busy": "2025-05-01T13:14:18.812578Z",
     "iopub.status.idle": "2025-05-01T13:16:17.968622Z",
     "shell.execute_reply": "2025-05-01T13:16:17.967774Z",
     "shell.execute_reply.started": "2025-05-01T13:14:18.813223Z"
    },
    "trusted": true
   },
   "outputs": [
    {
     "name": "stderr",
     "output_type": "stream",
     "text": [
      "Some weights of the model checkpoint at deepset/bert-base-cased-squad2 were not used when initializing BertForQuestionAnswering: ['bert.pooler.dense.bias', 'bert.pooler.dense.weight']\n",
      "- This IS expected if you are initializing BertForQuestionAnswering from the checkpoint of a model trained on another task or with another architecture (e.g. initializing a BertForSequenceClassification model from a BertForPreTraining model).\n",
      "- This IS NOT expected if you are initializing BertForQuestionAnswering from the checkpoint of a model that you expect to be exactly identical (initializing a BertForSequenceClassification model from a BertForSequenceClassification model).\n",
      "Device set to use cuda:0\n"
     ]
    },
    {
     "data": {
      "application/vnd.jupyter.widget-view+json": {
       "model_id": "0eeb84be0eac4916a3989dc1500e7b8d",
       "version_major": 2,
       "version_minor": 0
      },
      "text/plain": [
       "modules.json:   0%|          | 0.00/349 [00:00<?, ?B/s]"
      ]
     },
     "metadata": {},
     "output_type": "display_data"
    },
    {
     "data": {
      "application/vnd.jupyter.widget-view+json": {
       "model_id": "519fd6a61d654eaa936db67bf36397cb",
       "version_major": 2,
       "version_minor": 0
      },
      "text/plain": [
       "config_sentence_transformers.json:   0%|          | 0.00/116 [00:00<?, ?B/s]"
      ]
     },
     "metadata": {},
     "output_type": "display_data"
    },
    {
     "data": {
      "application/vnd.jupyter.widget-view+json": {
       "model_id": "bfbc4e99c7884d4188ac3b0db0d21812",
       "version_major": 2,
       "version_minor": 0
      },
      "text/plain": [
       "README.md:   0%|          | 0.00/10.5k [00:00<?, ?B/s]"
      ]
     },
     "metadata": {},
     "output_type": "display_data"
    },
    {
     "data": {
      "application/vnd.jupyter.widget-view+json": {
       "model_id": "d49e41408a954f50af466b14a6fdb65f",
       "version_major": 2,
       "version_minor": 0
      },
      "text/plain": [
       "sentence_bert_config.json:   0%|          | 0.00/53.0 [00:00<?, ?B/s]"
      ]
     },
     "metadata": {},
     "output_type": "display_data"
    },
    {
     "data": {
      "application/vnd.jupyter.widget-view+json": {
       "model_id": "afca692de33c40d3a84467e614e1cc13",
       "version_major": 2,
       "version_minor": 0
      },
      "text/plain": [
       "config.json:   0%|          | 0.00/612 [00:00<?, ?B/s]"
      ]
     },
     "metadata": {},
     "output_type": "display_data"
    },
    {
     "name": "stderr",
     "output_type": "stream",
     "text": [
      "Xet Storage is enabled for this repo, but the 'hf_xet' package is not installed. Falling back to regular HTTP download. For better performance, install the package with: `pip install huggingface_hub[hf_xet]` or `pip install hf_xet`\n"
     ]
    },
    {
     "data": {
      "application/vnd.jupyter.widget-view+json": {
       "model_id": "f884bedf587646b5b63707c3e895d2e9",
       "version_major": 2,
       "version_minor": 0
      },
      "text/plain": [
       "model.safetensors:   0%|          | 0.00/90.9M [00:00<?, ?B/s]"
      ]
     },
     "metadata": {},
     "output_type": "display_data"
    },
    {
     "data": {
      "application/vnd.jupyter.widget-view+json": {
       "model_id": "6f8cd8feccdf472aae6058f19c929450",
       "version_major": 2,
       "version_minor": 0
      },
      "text/plain": [
       "tokenizer_config.json:   0%|          | 0.00/350 [00:00<?, ?B/s]"
      ]
     },
     "metadata": {},
     "output_type": "display_data"
    },
    {
     "data": {
      "application/vnd.jupyter.widget-view+json": {
       "model_id": "f154ddeabdc94d6abe8b9631725a351b",
       "version_major": 2,
       "version_minor": 0
      },
      "text/plain": [
       "vocab.txt:   0%|          | 0.00/232k [00:00<?, ?B/s]"
      ]
     },
     "metadata": {},
     "output_type": "display_data"
    },
    {
     "data": {
      "application/vnd.jupyter.widget-view+json": {
       "model_id": "2ad56c608f484c849cf539d9bc02a7df",
       "version_major": 2,
       "version_minor": 0
      },
      "text/plain": [
       "tokenizer.json:   0%|          | 0.00/466k [00:00<?, ?B/s]"
      ]
     },
     "metadata": {},
     "output_type": "display_data"
    },
    {
     "data": {
      "application/vnd.jupyter.widget-view+json": {
       "model_id": "cdaae78d42cc493a8e57bd2bc1354aef",
       "version_major": 2,
       "version_minor": 0
      },
      "text/plain": [
       "special_tokens_map.json:   0%|          | 0.00/112 [00:00<?, ?B/s]"
      ]
     },
     "metadata": {},
     "output_type": "display_data"
    },
    {
     "data": {
      "application/vnd.jupyter.widget-view+json": {
       "model_id": "4a4e83bd3cd64f4eb36ad2284ad77233",
       "version_major": 2,
       "version_minor": 0
      },
      "text/plain": [
       "config.json:   0%|          | 0.00/190 [00:00<?, ?B/s]"
      ]
     },
     "metadata": {},
     "output_type": "display_data"
    },
    {
     "name": "stdout",
     "output_type": "stream",
     "text": [
      "\n",
      "Enter your crop disease question (or type 'exit'):  As a farmer, how can I know the qualities of a good fertilizer?\n"
     ]
    },
    {
     "data": {
      "application/vnd.jupyter.widget-view+json": {
       "model_id": "51c90875cac64801973f76134d33ae46",
       "version_major": 2,
       "version_minor": 0
      },
      "text/plain": [
       "Batches:   0%|          | 0/1 [00:00<?, ?it/s]"
      ]
     },
     "metadata": {},
     "output_type": "display_data"
    },
    {
     "data": {
      "application/vnd.jupyter.widget-view+json": {
       "model_id": "3a00ab12a49a46efb66447e182699cb3",
       "version_major": 2,
       "version_minor": 0
      },
      "text/plain": [
       "Batches:   0%|          | 0/87 [00:00<?, ?it/s]"
      ]
     },
     "metadata": {},
     "output_type": "display_data"
    },
    {
     "name": "stdout",
     "output_type": "stream",
     "text": [
      "Answer: when applied as per the need of the field crops\n"
     ]
    },
    {
     "name": "stdout",
     "output_type": "stream",
     "text": [
      "\n",
      "Enter your crop disease question (or type 'exit'):  Apart from insecticide, what other method used to control bean weevils?\n"
     ]
    },
    {
     "data": {
      "application/vnd.jupyter.widget-view+json": {
       "model_id": "d78929e1b50548c19aa3cfc249c158c7",
       "version_major": 2,
       "version_minor": 0
      },
      "text/plain": [
       "Batches:   0%|          | 0/1 [00:00<?, ?it/s]"
      ]
     },
     "metadata": {},
     "output_type": "display_data"
    },
    {
     "data": {
      "application/vnd.jupyter.widget-view+json": {
       "model_id": "dc531dea731f43aab383f26d06d653cb",
       "version_major": 2,
       "version_minor": 0
      },
      "text/plain": [
       "Batches:   0%|          | 0/87 [00:00<?, ?it/s]"
      ]
     },
     "metadata": {},
     "output_type": "display_data"
    },
    {
     "name": "stdout",
     "output_type": "stream",
     "text": [
      "Answer: botanical insecticides\n"
     ]
    },
    {
     "name": "stdout",
     "output_type": "stream",
     "text": [
      "\n",
      "Enter your crop disease question (or type 'exit'):  Can cassava seeds germinate if planted?\n"
     ]
    },
    {
     "data": {
      "application/vnd.jupyter.widget-view+json": {
       "model_id": "e34516e4c8e04de8b3858f948bb13ccf",
       "version_major": 2,
       "version_minor": 0
      },
      "text/plain": [
       "Batches:   0%|          | 0/1 [00:00<?, ?it/s]"
      ]
     },
     "metadata": {},
     "output_type": "display_data"
    },
    {
     "data": {
      "application/vnd.jupyter.widget-view+json": {
       "model_id": "a6bf7bccee6c4aa286853abbb6e3ac6c",
       "version_major": 2,
       "version_minor": 0
      },
      "text/plain": [
       "Batches:   0%|          | 0/87 [00:00<?, ?it/s]"
      ]
     },
     "metadata": {},
     "output_type": "display_data"
    },
    {
     "name": "stdout",
     "output_type": "stream",
     "text": [
      "Answer: Not a viable option of nutrient diversification after seed formation\n"
     ]
    },
    {
     "name": "stdout",
     "output_type": "stream",
     "text": [
      "\n",
      "Enter your crop disease question (or type 'exit'):  exit\n"
     ]
    }
   ],
   "source": [
    "import requests\n",
    "from bs4 import BeautifulSoup\n",
    "from sentence_transformers import SentenceTransformer, util\n",
    "from transformers import pipeline, AutoTokenizer, AutoModelForQuestionAnswering\n",
    "import torch\n",
    "\n",
    "# 1. Load the same QA model used in Point 1 (fine-tuned or distilbert for demo)\n",
    "model_name = \"deepset/bert-base-cased-squad2\"\n",
    "tokenizer = AutoTokenizer.from_pretrained(model_name)\n",
    "model = AutoModelForQuestionAnswering.from_pretrained(model_name)\n",
    "qa_pipeline = pipeline(\"question-answering\", model=model, tokenizer=tokenizer)\n",
    "\n",
    "# 2. Embedder for semantic similarity\n",
    "embedder = SentenceTransformer('all-MiniLM-L6-v2')  # Lightweight and fast\n",
    "\n",
    "# 3. Web Scraper\n",
    "def extract_text_from_url(url):\n",
    "    try:\n",
    "        response = requests.get(url)\n",
    "        soup = BeautifulSoup(response.content, \"html.parser\")\n",
    "        paragraphs = soup.find_all(\"p\")\n",
    "        text = \"\\n\".join(p.get_text() for p in paragraphs)\n",
    "        return text\n",
    "    except:\n",
    "        return \"\"\n",
    "\n",
    "# 4. Split text into passages (for retrieval)\n",
    "def split_text(text, max_length=200):\n",
    "    sentences = text.split('.')\n",
    "    passages = []\n",
    "    current = \"\"\n",
    "    for sentence in sentences:\n",
    "        if len(current) + len(sentence) < max_length:\n",
    "            current += sentence + \".\"\n",
    "        else:\n",
    "            passages.append(current)\n",
    "            current = sentence + \".\"\n",
    "    if current:\n",
    "        passages.append(current)\n",
    "    return passages\n",
    "\n",
    "# 5. Retrieve top-k relevant passages\n",
    "def retrieve_relevant_passages(query, passages, top_k=3):\n",
    "    query_embedding = embedder.encode(query, convert_to_tensor=True)\n",
    "    passage_embeddings = embedder.encode(passages, convert_to_tensor=True)\n",
    "    hits = util.semantic_search(query_embedding, passage_embeddings, top_k=top_k)[0]\n",
    "    return [passages[hit['corpus_id']] for hit in hits]\n",
    "\n",
    "# 6. RAG-style Answering\n",
    "def rag_answer(user_query, urls):\n",
    "    # Crawl and collect all passages\n",
    "    all_passages = []\n",
    "    for url in urls:\n",
    "        text = extract_text_from_url(url)\n",
    "        passages = split_text(text)\n",
    "        all_passages.extend(passages)\n",
    "\n",
    "    # Retrieve top relevant contexts\n",
    "    relevant_passages = retrieve_relevant_passages(user_query, all_passages, top_k=3)\n",
    "    context = \"\\n\".join(relevant_passages)\n",
    "\n",
    "    # Answer using QA pipeline\n",
    "    result = qa_pipeline(question=user_query, context=context)\n",
    "    return result[\"answer\"]\n",
    "\n",
    "# 7. Try with your links\n",
    "urls = [\n",
    "    \"https://link.springer.com/article/10.1007/s10311-008-0147-0\",\n",
    "    \"https://www.sciencedirect.com/science/article/pii/S2095311919626894\",\n",
    "    \"https://www.indianjournals.com/ijor.aspx?target=ijor:ar&volume=36&issue=1&article=004\",\n",
    "    \"https://www.indianjournals.com/ijor.aspx?target=ijor:ar&volume=35&issue=3&article=004\",\n",
    "    \"https://link.springer.com/book/10.1007/978-981-10-4325-3\",\n",
    "    \"https://books.google.co.in/books?hl=en&lr=&id=RhT8DwAAQBAJ&oi=fnd&pg=PA137&dq=Pest+Management+in+Organic+Farming&ots=a47-LNJcOR&sig=GiyMWVZ9NTDGKej4BA2iIfvQt68&redir_esc=y#v=onepage&q=Pest%20Management%20in%20Organic%20Farming&f=false\",\n",
    "    \"https://www.annualreviews.org/content/journals/10.1146/annurev.ento.52.110405.091337\",\n",
    "    \"https://books.google.co.in/books?hl=en&lr=&id=3cFKDwAAQBAJ&oi=fnd&pg=PR3&dq=Pest+Management+in+Organic+Farming&ots=LsHEvtOeMG&sig=8_n7DdPf07rg4jo-xwXcOzxg1OM&redir_esc=y#v=onepage&q=Pest%20Management%20in%20Organic%20Farming&f=false\",\n",
    "    \"https://www.sciencedirect.com/science/article/abs/pii/B9780323991452000033\",\n",
    "    \"https://www.taylorfrancis.com/chapters/edit/10.1201/9781351114578-13/disease-pest-management-organic-farming-case-applied-agroecology-finckh-junge-schmidt-weedon-universit%C3%A4t-kassel-germany\",\n",
    "    \"https://www.mdpi.com/2073-4395/8/4/48\",\n",
    "    \"https://www.frontiersin.org/journals/agronomy/articles/10.3389/fagro.2021.680456/full\",\n",
    "    \"https://www.mdpi.com/2071-1050/12/12/4859\",\n",
    "    \"https://books.google.co.in/books?hl=en&lr=&id=KQkwCwAAQBAJ&oi=fnd&pg=PA106&dq=Soil+Health+and+Fertilization+Techniques&ots=zHM3br4FAR&sig=KZyHFhwV8kuqU0HMCD52qmcLWYg&redir_esc=y#v=onepage&q=Soil%20Health%20and%20Fertilization%20Techniques&f=false\",\n",
    "    \"https://www.cambridge.org/core/journals/agricultural-and-resource-economics-review/article/factors-affecting-the-adoption-of-sustainable-agricultural-practices/E8666B6C3040F0859C2EEFE9EB5C6E05\",\n",
    "    \"https://www.nature.com/articles/s41893-020-00617-y\",\n",
    "    \"https://www.sciencedirect.com/science/article/abs/pii/S0048969720323482\",\n",
    "    \"https://link.springer.com/article/10.1007/s11356-022-23635-z\",\n",
    "    \"https://archives.joe.org/joe/1996december/a1.php\",\n",
    "    \"https://www.sciencedirect.com/science/article/abs/pii/S0301479716308908\",\n",
    "    \"https://citeseerx.ist.psu.edu/document?repid=rep1&type=pdf&doi=2ca80dfb4d19709246e14e00ed2e308162f76c67\",\n",
    "    \"https://www.sciencedirect.com/science/article/abs/pii/B9780444636614000025\",\n",
    "    \"https://www.mdpi.com/2073-4395/12/12/3008\",\n",
    "    \"https://www.mdpi.com/2223-7747/8/2/34\",\n",
    "    \"https://academic.oup.com/plphys/article-abstract/160/4/1686/6109554\",\n",
    "    \"https://www.mdpi.com/2072-4292/14/9/1990\",\n",
    "    \"https://www.sciencedirect.com/science/article/abs/pii/S0168169919306842\",\n",
    "    \"https://www.nature.com/articles/s41598-021-97221-7\",\n",
    "    \"https://www.frontiersin.org/journals/plant-science/articles/10.3389/fpls.2019.00621/full\",\n",
    "    \"https://citeseerx.ist.psu.edu/document?repid=rep1&type=pdf&doi=7c68a32212c1f86f535f4c1658ff68399d0a9ddd\"\n",
    "]\n",
    "\n",
    "# Test the system\n",
    "while True:\n",
    "    query = input(\"\\nEnter your crop disease question (or type 'exit'): \")\n",
    "    if query.lower() == 'exit':\n",
    "        break\n",
    "    answer = rag_answer(query, urls)\n",
    "    print(f\"Answer: {answer}\")"
   ]
  },
  {
   "cell_type": "markdown",
   "metadata": {},
   "source": [
    "### fine tune for crop and pest"
   ]
  },
  {
   "cell_type": "code",
   "execution_count": 7,
   "metadata": {
    "execution": {
     "iopub.execute_input": "2025-05-01T13:17:13.008465Z",
     "iopub.status.busy": "2025-05-01T13:17:13.007949Z",
     "iopub.status.idle": "2025-05-01T13:19:05.416218Z",
     "shell.execute_reply": "2025-05-01T13:19:05.415694Z",
     "shell.execute_reply.started": "2025-05-01T13:17:13.008440Z"
    },
    "trusted": true
   },
   "outputs": [
    {
     "name": "stderr",
     "output_type": "stream",
     "text": [
      "Some weights of the model checkpoint at deepset/bert-base-cased-squad2 were not used when initializing BertForQuestionAnswering: ['bert.pooler.dense.bias', 'bert.pooler.dense.weight']\n",
      "- This IS expected if you are initializing BertForQuestionAnswering from the checkpoint of a model trained on another task or with another architecture (e.g. initializing a BertForSequenceClassification model from a BertForPreTraining model).\n",
      "- This IS NOT expected if you are initializing BertForQuestionAnswering from the checkpoint of a model that you expect to be exactly identical (initializing a BertForSequenceClassification model from a BertForSequenceClassification model).\n",
      "Device set to use cuda:0\n"
     ]
    },
    {
     "name": "stdout",
     "output_type": "stream",
     "text": [
      "\n",
      "Enter your crop disease question (or type 'exit'):  Can cassava seeds germinate if planted?\n"
     ]
    },
    {
     "data": {
      "application/vnd.jupyter.widget-view+json": {
       "model_id": "a17bd8a4d4674e3eb0a0be026b7eb252",
       "version_major": 2,
       "version_minor": 0
      },
      "text/plain": [
       "Batches:   0%|          | 0/1 [00:00<?, ?it/s]"
      ]
     },
     "metadata": {},
     "output_type": "display_data"
    },
    {
     "data": {
      "application/vnd.jupyter.widget-view+json": {
       "model_id": "9c2ca70c4afb45f6a550fb236cac97a2",
       "version_major": 2,
       "version_minor": 0
      },
      "text/plain": [
       "Batches:   0%|          | 0/8 [00:00<?, ?it/s]"
      ]
     },
     "metadata": {},
     "output_type": "display_data"
    },
    {
     "name": "stdout",
     "output_type": "stream",
     "text": [
      "Answer: germination\n"
     ]
    },
    {
     "name": "stdout",
     "output_type": "stream",
     "text": [
      "\n",
      "Enter your crop disease question (or type 'exit'):  Apart from insecticide, what other method used to control bean weevils?\n"
     ]
    },
    {
     "data": {
      "application/vnd.jupyter.widget-view+json": {
       "model_id": "a5e7b621a2f843928232aaccb34cef5d",
       "version_major": 2,
       "version_minor": 0
      },
      "text/plain": [
       "Batches:   0%|          | 0/1 [00:00<?, ?it/s]"
      ]
     },
     "metadata": {},
     "output_type": "display_data"
    },
    {
     "data": {
      "application/vnd.jupyter.widget-view+json": {
       "model_id": "3424a7d5dd384ecd994a05c16cd17626",
       "version_major": 2,
       "version_minor": 0
      },
      "text/plain": [
       "Batches:   0%|          | 0/8 [00:00<?, ?it/s]"
      ]
     },
     "metadata": {},
     "output_type": "display_data"
    },
    {
     "name": "stdout",
     "output_type": "stream",
     "text": [
      "Answer: Biological control of plant-parasitic nematodes.\n"
     ]
    },
    {
     "name": "stdout",
     "output_type": "stream",
     "text": [
      "\n",
      "Enter your crop disease question (or type 'exit'):  As a farmer, how can I know the qualities of a good fertilizer?\n"
     ]
    },
    {
     "data": {
      "application/vnd.jupyter.widget-view+json": {
       "model_id": "39140cc17a3949e0a7bcabf0bca6d90e",
       "version_major": 2,
       "version_minor": 0
      },
      "text/plain": [
       "Batches:   0%|          | 0/1 [00:00<?, ?it/s]"
      ]
     },
     "metadata": {},
     "output_type": "display_data"
    },
    {
     "data": {
      "application/vnd.jupyter.widget-view+json": {
       "model_id": "57315f9317ec42358845d87177b9ea3b",
       "version_major": 2,
       "version_minor": 0
      },
      "text/plain": [
       "Batches:   0%|          | 0/8 [00:00<?, ?it/s]"
      ]
     },
     "metadata": {},
     "output_type": "display_data"
    },
    {
     "name": "stdout",
     "output_type": "stream",
     "text": [
      "Answer: in sufficient quantity for ever growing population\n"
     ]
    },
    {
     "name": "stdout",
     "output_type": "stream",
     "text": [
      "\n",
      "Enter your crop disease question (or type 'exit'):  As a farmer, how can I know the qualities of a good fertilizer?\n"
     ]
    },
    {
     "data": {
      "application/vnd.jupyter.widget-view+json": {
       "model_id": "b850d022e4c84ad5b625cd5c4f688857",
       "version_major": 2,
       "version_minor": 0
      },
      "text/plain": [
       "Batches:   0%|          | 0/1 [00:00<?, ?it/s]"
      ]
     },
     "metadata": {},
     "output_type": "display_data"
    },
    {
     "data": {
      "application/vnd.jupyter.widget-view+json": {
       "model_id": "62d2b1035b3540f0be2e7fafbf3614db",
       "version_major": 2,
       "version_minor": 0
      },
      "text/plain": [
       "Batches:   0%|          | 0/8 [00:00<?, ?it/s]"
      ]
     },
     "metadata": {},
     "output_type": "display_data"
    },
    {
     "name": "stdout",
     "output_type": "stream",
     "text": [
      "Answer: in sufficient quantity for ever growing population\n"
     ]
    },
    {
     "name": "stdout",
     "output_type": "stream",
     "text": [
      "\n",
      "Enter your crop disease question (or type 'exit'):  Give me 10 names of cassava?\n"
     ]
    },
    {
     "data": {
      "application/vnd.jupyter.widget-view+json": {
       "model_id": "b54513efe7a94f3dbfb2fceac22cd199",
       "version_major": 2,
       "version_minor": 0
      },
      "text/plain": [
       "Batches:   0%|          | 0/1 [00:00<?, ?it/s]"
      ]
     },
     "metadata": {},
     "output_type": "display_data"
    },
    {
     "data": {
      "application/vnd.jupyter.widget-view+json": {
       "model_id": "791c3eeed0024556889f10bd3d15acdc",
       "version_major": 2,
       "version_minor": 0
      },
      "text/plain": [
       "Batches:   0%|          | 0/8 [00:00<?, ?it/s]"
      ]
     },
     "metadata": {},
     "output_type": "display_data"
    },
    {
     "name": "stdout",
     "output_type": "stream",
     "text": [
      "Answer: )\n"
     ]
    },
    {
     "name": "stdout",
     "output_type": "stream",
     "text": [
      "\n",
      "Enter your crop disease question (or type 'exit'):  How can I add manure into the Soil?\n"
     ]
    },
    {
     "data": {
      "application/vnd.jupyter.widget-view+json": {
       "model_id": "07fdaa9b50dd443bac4e53648301cae8",
       "version_major": 2,
       "version_minor": 0
      },
      "text/plain": [
       "Batches:   0%|          | 0/1 [00:00<?, ?it/s]"
      ]
     },
     "metadata": {},
     "output_type": "display_data"
    },
    {
     "data": {
      "application/vnd.jupyter.widget-view+json": {
       "model_id": "e07d28d52dd74c089a777cba2ddaf359",
       "version_major": 2,
       "version_minor": 0
      },
      "text/plain": [
       "Batches:   0%|          | 0/7 [00:00<?, ?it/s]"
      ]
     },
     "metadata": {},
     "output_type": "display_data"
    },
    {
     "name": "stdout",
     "output_type": "stream",
     "text": [
      "Answer: dairy manure or ammonium nitrate applications\n"
     ]
    },
    {
     "name": "stdout",
     "output_type": "stream",
     "text": [
      "\n",
      "Enter your crop disease question (or type 'exit'):  How can I avoid red or orange color on my bean leaves?\n"
     ]
    },
    {
     "data": {
      "application/vnd.jupyter.widget-view+json": {
       "model_id": "f4728b85228142d29764057e1864e67c",
       "version_major": 2,
       "version_minor": 0
      },
      "text/plain": [
       "Batches:   0%|          | 0/1 [00:00<?, ?it/s]"
      ]
     },
     "metadata": {},
     "output_type": "display_data"
    },
    {
     "data": {
      "application/vnd.jupyter.widget-view+json": {
       "model_id": "1e6aad96e8d74ff19ed2b62df615082a",
       "version_major": 2,
       "version_minor": 0
      },
      "text/plain": [
       "Batches:   0%|          | 0/7 [00:00<?, ?it/s]"
      ]
     },
     "metadata": {},
     "output_type": "display_data"
    },
    {
     "name": "stdout",
     "output_type": "stream",
     "text": [
      "Answer: incorporation of organic matter in the substrate\n"
     ]
    },
    {
     "name": "stdout",
     "output_type": "stream",
     "text": [
      "\n",
      "Enter your crop disease question (or type 'exit'):  For how long cassava is ready to be harvested?\n"
     ]
    },
    {
     "data": {
      "application/vnd.jupyter.widget-view+json": {
       "model_id": "9fee1c3037b74c42869cc25e2bcff42a",
       "version_major": 2,
       "version_minor": 0
      },
      "text/plain": [
       "Batches:   0%|          | 0/1 [00:00<?, ?it/s]"
      ]
     },
     "metadata": {},
     "output_type": "display_data"
    },
    {
     "data": {
      "application/vnd.jupyter.widget-view+json": {
       "model_id": "30a0dda6fae74240a957e698dba55b4f",
       "version_major": 2,
       "version_minor": 0
      },
      "text/plain": [
       "Batches:   0%|          | 0/7 [00:00<?, ?it/s]"
      ]
     },
     "metadata": {},
     "output_type": "display_data"
    },
    {
     "name": "stdout",
     "output_type": "stream",
     "text": [
      "Answer: stage of development and N form\n"
     ]
    },
    {
     "name": "stdout",
     "output_type": "stream",
     "text": [
      "\n",
      "Enter your crop disease question (or type 'exit'):  Can't spraying chemicals causes environmental pollution\n"
     ]
    },
    {
     "data": {
      "application/vnd.jupyter.widget-view+json": {
       "model_id": "fe132425cd2c47bfba49c19285c1a108",
       "version_major": 2,
       "version_minor": 0
      },
      "text/plain": [
       "Batches:   0%|          | 0/1 [00:00<?, ?it/s]"
      ]
     },
     "metadata": {},
     "output_type": "display_data"
    },
    {
     "data": {
      "application/vnd.jupyter.widget-view+json": {
       "model_id": "6468447651e045cfb99af256a53f3f80",
       "version_major": 2,
       "version_minor": 0
      },
      "text/plain": [
       "Batches:   0%|          | 0/7 [00:00<?, ?it/s]"
      ]
     },
     "metadata": {},
     "output_type": "display_data"
    },
    {
     "name": "stdout",
     "output_type": "stream",
     "text": [
      "Answer: complex chronic effects such as change in endocrine functions and immune systems.\n"
     ]
    },
    {
     "name": "stdout",
     "output_type": "stream",
     "text": [
      "\n",
      "Enter your crop disease question (or type 'exit'):  exit\n"
     ]
    }
   ],
   "source": [
    "import requests\n",
    "from bs4 import BeautifulSoup\n",
    "from sentence_transformers import SentenceTransformer, util\n",
    "from transformers import pipeline, AutoTokenizer, AutoModelForQuestionAnswering\n",
    "import torch\n",
    "\n",
    "# 1. Load the same QA model used in Point 1 (fine-tuned or distilbert for demo)\n",
    "model_name = \"deepset/bert-base-cased-squad2\"\n",
    "tokenizer = AutoTokenizer.from_pretrained(model_name)\n",
    "model = AutoModelForQuestionAnswering.from_pretrained(model_name)\n",
    "qa_pipeline = pipeline(\"question-answering\", model=model, tokenizer=tokenizer)\n",
    "\n",
    "# 2. Embedder for semantic similarity\n",
    "embedder = SentenceTransformer('all-MiniLM-L6-v2')  # Lightweight and fast\n",
    "\n",
    "# 3. Web Scraper\n",
    "def extract_text_from_url(url):\n",
    "    try:\n",
    "        response = requests.get(url)\n",
    "        soup = BeautifulSoup(response.content, \"html.parser\")\n",
    "        paragraphs = soup.find_all(\"p\")\n",
    "        text = \"\\n\".join(p.get_text() for p in paragraphs)\n",
    "        return text\n",
    "    except:\n",
    "        return \"\"\n",
    "\n",
    "# 4. Split text into passages (for retrieval)\n",
    "def split_text(text, max_length=200):\n",
    "    sentences = text.split('.')\n",
    "    passages = []\n",
    "    current = \"\"\n",
    "    for sentence in sentences:\n",
    "        if len(current) + len(sentence) < max_length:\n",
    "            current += sentence + \".\"\n",
    "        else:\n",
    "            passages.append(current)\n",
    "            current = sentence + \".\"\n",
    "    if current:\n",
    "        passages.append(current)\n",
    "    return passages\n",
    "\n",
    "# 5. Retrieve top-k relevant passages\n",
    "def retrieve_relevant_passages(query, passages, top_k=3):\n",
    "    query_embedding = embedder.encode(query, convert_to_tensor=True)\n",
    "    passage_embeddings = embedder.encode(passages, convert_to_tensor=True)\n",
    "    hits = util.semantic_search(query_embedding, passage_embeddings, top_k=top_k)[0]\n",
    "    return [passages[hit['corpus_id']] for hit in hits]\n",
    "\n",
    "# 6. RAG-style Answering\n",
    "def rag_answer(user_query, urls):\n",
    "    # Crawl and collect all passages\n",
    "    all_passages = []\n",
    "    for url in urls:\n",
    "        text = extract_text_from_url(url)\n",
    "        passages = split_text(text)\n",
    "        all_passages.extend(passages)\n",
    "\n",
    "    # Retrieve top relevant contexts\n",
    "    relevant_passages = retrieve_relevant_passages(user_query, all_passages, top_k=3)\n",
    "    context = \"\\n\".join(relevant_passages)\n",
    "\n",
    "    # Answer using QA pipeline\n",
    "    result = qa_pipeline(question=user_query, context=context)\n",
    "    return result[\"answer\"]\n",
    "\n",
    "# 7. Try with your links\n",
    "urls = [\n",
    "    \"https://link.springer.com/article/10.1007/s10311-008-0147-0\",\n",
    "    \"https://www.sciencedirect.com/science/article/pii/S2095311919626894\",\n",
    "    \"https://www.indianjournals.com/ijor.aspx?target=ijor:ar&volume=36&issue=1&article=004\",\n",
    "    \"https://www.indianjournals.com/ijor.aspx?target=ijor:ar&volume=35&issue=3&article=004\",\n",
    "    \"https://link.springer.com/book/10.1007/978-981-10-4325-3\",\n",
    "    \"https://books.google.co.in/books?hl=en&lr=&id=RhT8DwAAQBAJ&oi=fnd&pg=PA137&dq=Pest+Management+in+Organic+Farming&ots=a47-LNJcOR&sig=GiyMWVZ9NTDGKej4BA2iIfvQt68&redir_esc=y#v=onepage&q=Pest%20Management%20in%20Organic%20Farming&f=false\",\n",
    "    \"https://www.annualreviews.org/content/journals/10.1146/annurev.ento.52.110405.091337\",\n",
    "    \"https://books.google.co.in/books?hl=en&lr=&id=3cFKDwAAQBAJ&oi=fnd&pg=PR3&dq=Pest+Management+in+Organic+Farming&ots=LsHEvtOeMG&sig=8_n7DdPf07rg4jo-xwXcOzxg1OM&redir_esc=y#v=onepage&q=Pest%20Management%20in%20Organic%20Farming&f=false\",\n",
    "    \"https://www.sciencedirect.com/science/article/abs/pii/B9780323991452000033\",\n",
    "    \"https://www.taylorfrancis.com/chapters/edit/10.1201/9781351114578-13/disease-pest-management-organic-farming-case-applied-agroecology-finckh-junge-schmidt-weedon-universit%C3%A4t-kassel-germany\",\n",
    "]\n",
    "\n",
    "# Test the system\n",
    "while True:\n",
    "    query = input(\"\\nEnter your crop disease question (or type 'exit'): \")\n",
    "    if query.lower() == 'exit':\n",
    "        break\n",
    "    answer = rag_answer(query, urls)\n",
    "    print(f\"Answer: {answer}\")"
   ]
  }
 ],
 "metadata": {
  "kaggle": {
   "accelerator": "nvidiaTeslaT4",
   "dataSources": [
    {
     "datasetId": 3481876,
     "sourceId": 6081775,
     "sourceType": "datasetVersion"
    }
   ],
   "dockerImageVersionId": 31011,
   "isGpuEnabled": true,
   "isInternetEnabled": true,
   "language": "python",
   "sourceType": "notebook"
  },
  "kernelspec": {
   "display_name": "Python 3",
   "language": "python",
   "name": "python3"
  },
  "language_info": {
   "codemirror_mode": {
    "name": "ipython",
    "version": 3
   },
   "file_extension": ".py",
   "mimetype": "text/x-python",
   "name": "python",
   "nbconvert_exporter": "python",
   "pygments_lexer": "ipython3",
   "version": "3.11.11"
  }
 },
 "nbformat": 4,
 "nbformat_minor": 4
}
